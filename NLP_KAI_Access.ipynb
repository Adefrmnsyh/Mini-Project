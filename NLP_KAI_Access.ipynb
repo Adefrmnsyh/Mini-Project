{
  "nbformat": 4,
  "nbformat_minor": 0,
  "metadata": {
    "colab": {
      "name": "NLP KAI Access",
      "provenance": [],
      "authorship_tag": "ABX9TyMh2sIi3asS8CyZ4fUgRMFp",
      "include_colab_link": true
    },
    "kernelspec": {
      "name": "python3",
      "display_name": "Python 3"
    },
    "language_info": {
      "name": "python"
    },
    "accelerator": "GPU"
  },
  "cells": [
    {
      "cell_type": "markdown",
      "metadata": {
        "id": "view-in-github",
        "colab_type": "text"
      },
      "source": [
        "<a href=\"https://colab.research.google.com/github/Adefrmnsyh/Mini-Project/blob/main/NLP_KAI_Access.ipynb\" target=\"_parent\"><img src=\"https://colab.research.google.com/assets/colab-badge.svg\" alt=\"Open In Colab\"/></a>"
      ]
    },
    {
      "cell_type": "code",
      "source": [
        "!pip install google-play-scraper"
      ],
      "metadata": {
        "id": "GpndQ-EtXNAH",
        "colab": {
          "base_uri": "https://localhost:8080/"
        },
        "outputId": "3ea4a695-a41b-4467-8c9c-4f1d73308593"
      },
      "execution_count": null,
      "outputs": [
        {
          "output_type": "stream",
          "name": "stdout",
          "text": [
            "Requirement already satisfied: google-play-scraper in /usr/local/lib/python3.7/dist-packages (1.0.3)\n"
          ]
        }
      ]
    },
    {
      "cell_type": "code",
      "source": [
        "from google_play_scraper import app\n",
        "import pandas as pd\n",
        "import numpy as np"
      ],
      "metadata": {
        "id": "fbxibfmx_KH4"
      },
      "execution_count": null,
      "outputs": []
    },
    {
      "cell_type": "code",
      "source": [
        "from google_play_scraper import Sort, reviews\n",
        "\n",
        "result, continuation_token = reviews(\n",
        "    'com.kai.kaiticketing',\n",
        "    lang = 'id',\n",
        "    country = 'id',\n",
        "    sort = Sort.MOST_RELEVANT,\n",
        "    count = 50,\n",
        "    filter_score_with = None\n",
        ")"
      ],
      "metadata": {
        "id": "dl2qX7xZ4L6L"
      },
      "execution_count": null,
      "outputs": []
    },
    {
      "cell_type": "code",
      "source": [
        "data0012 = pd.DataFrame(np.array(result),columns=['review'])\n",
        "data0012 = data0012.join(pd.DataFrame(data0012.pop('review').tolist()))\n",
        "\n",
        "data0012.head()"
      ],
      "metadata": {
        "colab": {
          "base_uri": "https://localhost:8080/",
          "height": 583
        },
        "id": "bj2jqYYoQxAr",
        "outputId": "4d40d4a4-2207-4715-af09-98a4c9619753"
      },
      "execution_count": null,
      "outputs": [
        {
          "output_type": "execute_result",
          "data": {
            "text/plain": [
              "                                            reviewId              userName  \\\n",
              "0  gp:AOqpTOFaHdsNfLubLhwifgxZHzJcDrDKw9ca53vYarN...  Fitri Puji Anggraeni   \n",
              "1  gp:AOqpTOEA7zLWHuBL-DekmQPsKOMlNOkTbPU1iaJfx8m...     natalia chrisanti   \n",
              "2  gp:AOqpTOFMSjsPNF1fh2DPZAmztffHy41fc1hRki3BZ_o...        wahyu mahendra   \n",
              "3  gp:AOqpTOHfFP2gT6n6-Aw-aXOVmCp1-_2Un8SRa4FXM4a...     Ian Rizki Sembada   \n",
              "4  gp:AOqpTOHw1RuhOgKykP2tD70W_LzOM9RI1UyD0jWViCX...           Feby Aryana   \n",
              "\n",
              "                                           userImage  \\\n",
              "0  https://play-lh.googleusercontent.com/a/AATXAJ...   \n",
              "1  https://play-lh.googleusercontent.com/a-/AOh14...   \n",
              "2  https://play-lh.googleusercontent.com/a-/AOh14...   \n",
              "3  https://play-lh.googleusercontent.com/a-/AOh14...   \n",
              "4  https://play-lh.googleusercontent.com/a-/AOh14...   \n",
              "\n",
              "                                             content  score  thumbsUpCount  \\\n",
              "0  Tolong di perbaiki sistem di aplikasinya, agar...      2            128   \n",
              "1  Jelek bgt bgt aplikasinya. Gampang ngelag!! Ya...      1             31   \n",
              "2  Mohon untuk aplikasi dikembangkan lebih baik l...      2             84   \n",
              "3  Tolong diperbaiki sistemNya. Masa aplikasi sek...      3             63   \n",
              "4  Ada BUG di menu tiket yang sudah lunas dan ker...      2             48   \n",
              "\n",
              "  reviewCreatedVersion                  at  \\\n",
              "0                4.9.2 2022-03-06 00:00:10   \n",
              "1                4.9.5 2022-03-28 12:48:59   \n",
              "2                4.9.2 2022-03-12 04:27:30   \n",
              "3                4.9.2 2022-03-09 17:57:58   \n",
              "4                4.9.2 2022-03-04 14:21:15   \n",
              "\n",
              "                                        replyContent           repliedAt  \n",
              "0  Hi kak, Mohon maaf atas kendalanya, untuk deta... 2022-03-07 03:42:51  \n",
              "1                                               None                 NaT  \n",
              "2                                               None                 NaT  \n",
              "3  Hi kak, Mohon maaf atas kendalanya, bisa di in... 2022-03-10 01:56:55  \n",
              "4                                               None                 NaT  "
            ],
            "text/html": [
              "\n",
              "  <div id=\"df-5398478b-265c-4961-879f-3b978c6685b2\">\n",
              "    <div class=\"colab-df-container\">\n",
              "      <div>\n",
              "<style scoped>\n",
              "    .dataframe tbody tr th:only-of-type {\n",
              "        vertical-align: middle;\n",
              "    }\n",
              "\n",
              "    .dataframe tbody tr th {\n",
              "        vertical-align: top;\n",
              "    }\n",
              "\n",
              "    .dataframe thead th {\n",
              "        text-align: right;\n",
              "    }\n",
              "</style>\n",
              "<table border=\"1\" class=\"dataframe\">\n",
              "  <thead>\n",
              "    <tr style=\"text-align: right;\">\n",
              "      <th></th>\n",
              "      <th>reviewId</th>\n",
              "      <th>userName</th>\n",
              "      <th>userImage</th>\n",
              "      <th>content</th>\n",
              "      <th>score</th>\n",
              "      <th>thumbsUpCount</th>\n",
              "      <th>reviewCreatedVersion</th>\n",
              "      <th>at</th>\n",
              "      <th>replyContent</th>\n",
              "      <th>repliedAt</th>\n",
              "    </tr>\n",
              "  </thead>\n",
              "  <tbody>\n",
              "    <tr>\n",
              "      <th>0</th>\n",
              "      <td>gp:AOqpTOFaHdsNfLubLhwifgxZHzJcDrDKw9ca53vYarN...</td>\n",
              "      <td>Fitri Puji Anggraeni</td>\n",
              "      <td>https://play-lh.googleusercontent.com/a/AATXAJ...</td>\n",
              "      <td>Tolong di perbaiki sistem di aplikasinya, agar...</td>\n",
              "      <td>2</td>\n",
              "      <td>128</td>\n",
              "      <td>4.9.2</td>\n",
              "      <td>2022-03-06 00:00:10</td>\n",
              "      <td>Hi kak, Mohon maaf atas kendalanya, untuk deta...</td>\n",
              "      <td>2022-03-07 03:42:51</td>\n",
              "    </tr>\n",
              "    <tr>\n",
              "      <th>1</th>\n",
              "      <td>gp:AOqpTOEA7zLWHuBL-DekmQPsKOMlNOkTbPU1iaJfx8m...</td>\n",
              "      <td>natalia chrisanti</td>\n",
              "      <td>https://play-lh.googleusercontent.com/a-/AOh14...</td>\n",
              "      <td>Jelek bgt bgt aplikasinya. Gampang ngelag!! Ya...</td>\n",
              "      <td>1</td>\n",
              "      <td>31</td>\n",
              "      <td>4.9.5</td>\n",
              "      <td>2022-03-28 12:48:59</td>\n",
              "      <td>None</td>\n",
              "      <td>NaT</td>\n",
              "    </tr>\n",
              "    <tr>\n",
              "      <th>2</th>\n",
              "      <td>gp:AOqpTOFMSjsPNF1fh2DPZAmztffHy41fc1hRki3BZ_o...</td>\n",
              "      <td>wahyu mahendra</td>\n",
              "      <td>https://play-lh.googleusercontent.com/a-/AOh14...</td>\n",
              "      <td>Mohon untuk aplikasi dikembangkan lebih baik l...</td>\n",
              "      <td>2</td>\n",
              "      <td>84</td>\n",
              "      <td>4.9.2</td>\n",
              "      <td>2022-03-12 04:27:30</td>\n",
              "      <td>None</td>\n",
              "      <td>NaT</td>\n",
              "    </tr>\n",
              "    <tr>\n",
              "      <th>3</th>\n",
              "      <td>gp:AOqpTOHfFP2gT6n6-Aw-aXOVmCp1-_2Un8SRa4FXM4a...</td>\n",
              "      <td>Ian Rizki Sembada</td>\n",
              "      <td>https://play-lh.googleusercontent.com/a-/AOh14...</td>\n",
              "      <td>Tolong diperbaiki sistemNya. Masa aplikasi sek...</td>\n",
              "      <td>3</td>\n",
              "      <td>63</td>\n",
              "      <td>4.9.2</td>\n",
              "      <td>2022-03-09 17:57:58</td>\n",
              "      <td>Hi kak, Mohon maaf atas kendalanya, bisa di in...</td>\n",
              "      <td>2022-03-10 01:56:55</td>\n",
              "    </tr>\n",
              "    <tr>\n",
              "      <th>4</th>\n",
              "      <td>gp:AOqpTOHw1RuhOgKykP2tD70W_LzOM9RI1UyD0jWViCX...</td>\n",
              "      <td>Feby Aryana</td>\n",
              "      <td>https://play-lh.googleusercontent.com/a-/AOh14...</td>\n",
              "      <td>Ada BUG di menu tiket yang sudah lunas dan ker...</td>\n",
              "      <td>2</td>\n",
              "      <td>48</td>\n",
              "      <td>4.9.2</td>\n",
              "      <td>2022-03-04 14:21:15</td>\n",
              "      <td>None</td>\n",
              "      <td>NaT</td>\n",
              "    </tr>\n",
              "  </tbody>\n",
              "</table>\n",
              "</div>\n",
              "      <button class=\"colab-df-convert\" onclick=\"convertToInteractive('df-5398478b-265c-4961-879f-3b978c6685b2')\"\n",
              "              title=\"Convert this dataframe to an interactive table.\"\n",
              "              style=\"display:none;\">\n",
              "        \n",
              "  <svg xmlns=\"http://www.w3.org/2000/svg\" height=\"24px\"viewBox=\"0 0 24 24\"\n",
              "       width=\"24px\">\n",
              "    <path d=\"M0 0h24v24H0V0z\" fill=\"none\"/>\n",
              "    <path d=\"M18.56 5.44l.94 2.06.94-2.06 2.06-.94-2.06-.94-.94-2.06-.94 2.06-2.06.94zm-11 1L8.5 8.5l.94-2.06 2.06-.94-2.06-.94L8.5 2.5l-.94 2.06-2.06.94zm10 10l.94 2.06.94-2.06 2.06-.94-2.06-.94-.94-2.06-.94 2.06-2.06.94z\"/><path d=\"M17.41 7.96l-1.37-1.37c-.4-.4-.92-.59-1.43-.59-.52 0-1.04.2-1.43.59L10.3 9.45l-7.72 7.72c-.78.78-.78 2.05 0 2.83L4 21.41c.39.39.9.59 1.41.59.51 0 1.02-.2 1.41-.59l7.78-7.78 2.81-2.81c.8-.78.8-2.07 0-2.86zM5.41 20L4 18.59l7.72-7.72 1.47 1.35L5.41 20z\"/>\n",
              "  </svg>\n",
              "      </button>\n",
              "      \n",
              "  <style>\n",
              "    .colab-df-container {\n",
              "      display:flex;\n",
              "      flex-wrap:wrap;\n",
              "      gap: 12px;\n",
              "    }\n",
              "\n",
              "    .colab-df-convert {\n",
              "      background-color: #E8F0FE;\n",
              "      border: none;\n",
              "      border-radius: 50%;\n",
              "      cursor: pointer;\n",
              "      display: none;\n",
              "      fill: #1967D2;\n",
              "      height: 32px;\n",
              "      padding: 0 0 0 0;\n",
              "      width: 32px;\n",
              "    }\n",
              "\n",
              "    .colab-df-convert:hover {\n",
              "      background-color: #E2EBFA;\n",
              "      box-shadow: 0px 1px 2px rgba(60, 64, 67, 0.3), 0px 1px 3px 1px rgba(60, 64, 67, 0.15);\n",
              "      fill: #174EA6;\n",
              "    }\n",
              "\n",
              "    [theme=dark] .colab-df-convert {\n",
              "      background-color: #3B4455;\n",
              "      fill: #D2E3FC;\n",
              "    }\n",
              "\n",
              "    [theme=dark] .colab-df-convert:hover {\n",
              "      background-color: #434B5C;\n",
              "      box-shadow: 0px 1px 3px 1px rgba(0, 0, 0, 0.15);\n",
              "      filter: drop-shadow(0px 1px 2px rgba(0, 0, 0, 0.3));\n",
              "      fill: #FFFFFF;\n",
              "    }\n",
              "  </style>\n",
              "\n",
              "      <script>\n",
              "        const buttonEl =\n",
              "          document.querySelector('#df-5398478b-265c-4961-879f-3b978c6685b2 button.colab-df-convert');\n",
              "        buttonEl.style.display =\n",
              "          google.colab.kernel.accessAllowed ? 'block' : 'none';\n",
              "\n",
              "        async function convertToInteractive(key) {\n",
              "          const element = document.querySelector('#df-5398478b-265c-4961-879f-3b978c6685b2');\n",
              "          const dataTable =\n",
              "            await google.colab.kernel.invokeFunction('convertToInteractive',\n",
              "                                                     [key], {});\n",
              "          if (!dataTable) return;\n",
              "\n",
              "          const docLinkHtml = 'Like what you see? Visit the ' +\n",
              "            '<a target=\"_blank\" href=https://colab.research.google.com/notebooks/data_table.ipynb>data table notebook</a>'\n",
              "            + ' to learn more about interactive tables.';\n",
              "          element.innerHTML = '';\n",
              "          dataTable['output_type'] = 'display_data';\n",
              "          await google.colab.output.renderOutput(dataTable, element);\n",
              "          const docLink = document.createElement('div');\n",
              "          docLink.innerHTML = docLinkHtml;\n",
              "          element.appendChild(docLink);\n",
              "        }\n",
              "      </script>\n",
              "    </div>\n",
              "  </div>\n",
              "  "
            ]
          },
          "metadata": {},
          "execution_count": 6
        }
      ]
    },
    {
      "cell_type": "code",
      "source": [
        "len(data0012.index)"
      ],
      "metadata": {
        "colab": {
          "base_uri": "https://localhost:8080/"
        },
        "id": "VA6quzyMRZwk",
        "outputId": "d14e72fb-8d20-4822-8a8c-936600bb4fe4"
      },
      "execution_count": null,
      "outputs": [
        {
          "output_type": "execute_result",
          "data": {
            "text/plain": [
              "50"
            ]
          },
          "metadata": {},
          "execution_count": 7
        }
      ]
    },
    {
      "cell_type": "code",
      "source": [
        "data0012[['userName', 'score', 'at', 'content']].head()"
      ],
      "metadata": {
        "colab": {
          "base_uri": "https://localhost:8080/",
          "height": 337
        },
        "id": "kG1yRWxfReGa",
        "outputId": "0b70f331-7cb7-4f51-829b-2ddc46be7bf3"
      },
      "execution_count": null,
      "outputs": [
        {
          "output_type": "execute_result",
          "data": {
            "text/plain": [
              "               userName  score                  at  \\\n",
              "0  Fitri Puji Anggraeni      2 2022-03-06 00:00:10   \n",
              "1     natalia chrisanti      1 2022-03-28 12:48:59   \n",
              "2        wahyu mahendra      2 2022-03-12 04:27:30   \n",
              "3     Ian Rizki Sembada      3 2022-03-09 17:57:58   \n",
              "4           Feby Aryana      2 2022-03-04 14:21:15   \n",
              "\n",
              "                                             content  \n",
              "0  Tolong di perbaiki sistem di aplikasinya, agar...  \n",
              "1  Jelek bgt bgt aplikasinya. Gampang ngelag!! Ya...  \n",
              "2  Mohon untuk aplikasi dikembangkan lebih baik l...  \n",
              "3  Tolong diperbaiki sistemNya. Masa aplikasi sek...  \n",
              "4  Ada BUG di menu tiket yang sudah lunas dan ker...  "
            ],
            "text/html": [
              "\n",
              "  <div id=\"df-368eb682-b278-4b6d-916a-fdad035cb665\">\n",
              "    <div class=\"colab-df-container\">\n",
              "      <div>\n",
              "<style scoped>\n",
              "    .dataframe tbody tr th:only-of-type {\n",
              "        vertical-align: middle;\n",
              "    }\n",
              "\n",
              "    .dataframe tbody tr th {\n",
              "        vertical-align: top;\n",
              "    }\n",
              "\n",
              "    .dataframe thead th {\n",
              "        text-align: right;\n",
              "    }\n",
              "</style>\n",
              "<table border=\"1\" class=\"dataframe\">\n",
              "  <thead>\n",
              "    <tr style=\"text-align: right;\">\n",
              "      <th></th>\n",
              "      <th>userName</th>\n",
              "      <th>score</th>\n",
              "      <th>at</th>\n",
              "      <th>content</th>\n",
              "    </tr>\n",
              "  </thead>\n",
              "  <tbody>\n",
              "    <tr>\n",
              "      <th>0</th>\n",
              "      <td>Fitri Puji Anggraeni</td>\n",
              "      <td>2</td>\n",
              "      <td>2022-03-06 00:00:10</td>\n",
              "      <td>Tolong di perbaiki sistem di aplikasinya, agar...</td>\n",
              "    </tr>\n",
              "    <tr>\n",
              "      <th>1</th>\n",
              "      <td>natalia chrisanti</td>\n",
              "      <td>1</td>\n",
              "      <td>2022-03-28 12:48:59</td>\n",
              "      <td>Jelek bgt bgt aplikasinya. Gampang ngelag!! Ya...</td>\n",
              "    </tr>\n",
              "    <tr>\n",
              "      <th>2</th>\n",
              "      <td>wahyu mahendra</td>\n",
              "      <td>2</td>\n",
              "      <td>2022-03-12 04:27:30</td>\n",
              "      <td>Mohon untuk aplikasi dikembangkan lebih baik l...</td>\n",
              "    </tr>\n",
              "    <tr>\n",
              "      <th>3</th>\n",
              "      <td>Ian Rizki Sembada</td>\n",
              "      <td>3</td>\n",
              "      <td>2022-03-09 17:57:58</td>\n",
              "      <td>Tolong diperbaiki sistemNya. Masa aplikasi sek...</td>\n",
              "    </tr>\n",
              "    <tr>\n",
              "      <th>4</th>\n",
              "      <td>Feby Aryana</td>\n",
              "      <td>2</td>\n",
              "      <td>2022-03-04 14:21:15</td>\n",
              "      <td>Ada BUG di menu tiket yang sudah lunas dan ker...</td>\n",
              "    </tr>\n",
              "  </tbody>\n",
              "</table>\n",
              "</div>\n",
              "      <button class=\"colab-df-convert\" onclick=\"convertToInteractive('df-368eb682-b278-4b6d-916a-fdad035cb665')\"\n",
              "              title=\"Convert this dataframe to an interactive table.\"\n",
              "              style=\"display:none;\">\n",
              "        \n",
              "  <svg xmlns=\"http://www.w3.org/2000/svg\" height=\"24px\"viewBox=\"0 0 24 24\"\n",
              "       width=\"24px\">\n",
              "    <path d=\"M0 0h24v24H0V0z\" fill=\"none\"/>\n",
              "    <path d=\"M18.56 5.44l.94 2.06.94-2.06 2.06-.94-2.06-.94-.94-2.06-.94 2.06-2.06.94zm-11 1L8.5 8.5l.94-2.06 2.06-.94-2.06-.94L8.5 2.5l-.94 2.06-2.06.94zm10 10l.94 2.06.94-2.06 2.06-.94-2.06-.94-.94-2.06-.94 2.06-2.06.94z\"/><path d=\"M17.41 7.96l-1.37-1.37c-.4-.4-.92-.59-1.43-.59-.52 0-1.04.2-1.43.59L10.3 9.45l-7.72 7.72c-.78.78-.78 2.05 0 2.83L4 21.41c.39.39.9.59 1.41.59.51 0 1.02-.2 1.41-.59l7.78-7.78 2.81-2.81c.8-.78.8-2.07 0-2.86zM5.41 20L4 18.59l7.72-7.72 1.47 1.35L5.41 20z\"/>\n",
              "  </svg>\n",
              "      </button>\n",
              "      \n",
              "  <style>\n",
              "    .colab-df-container {\n",
              "      display:flex;\n",
              "      flex-wrap:wrap;\n",
              "      gap: 12px;\n",
              "    }\n",
              "\n",
              "    .colab-df-convert {\n",
              "      background-color: #E8F0FE;\n",
              "      border: none;\n",
              "      border-radius: 50%;\n",
              "      cursor: pointer;\n",
              "      display: none;\n",
              "      fill: #1967D2;\n",
              "      height: 32px;\n",
              "      padding: 0 0 0 0;\n",
              "      width: 32px;\n",
              "    }\n",
              "\n",
              "    .colab-df-convert:hover {\n",
              "      background-color: #E2EBFA;\n",
              "      box-shadow: 0px 1px 2px rgba(60, 64, 67, 0.3), 0px 1px 3px 1px rgba(60, 64, 67, 0.15);\n",
              "      fill: #174EA6;\n",
              "    }\n",
              "\n",
              "    [theme=dark] .colab-df-convert {\n",
              "      background-color: #3B4455;\n",
              "      fill: #D2E3FC;\n",
              "    }\n",
              "\n",
              "    [theme=dark] .colab-df-convert:hover {\n",
              "      background-color: #434B5C;\n",
              "      box-shadow: 0px 1px 3px 1px rgba(0, 0, 0, 0.15);\n",
              "      filter: drop-shadow(0px 1px 2px rgba(0, 0, 0, 0.3));\n",
              "      fill: #FFFFFF;\n",
              "    }\n",
              "  </style>\n",
              "\n",
              "      <script>\n",
              "        const buttonEl =\n",
              "          document.querySelector('#df-368eb682-b278-4b6d-916a-fdad035cb665 button.colab-df-convert');\n",
              "        buttonEl.style.display =\n",
              "          google.colab.kernel.accessAllowed ? 'block' : 'none';\n",
              "\n",
              "        async function convertToInteractive(key) {\n",
              "          const element = document.querySelector('#df-368eb682-b278-4b6d-916a-fdad035cb665');\n",
              "          const dataTable =\n",
              "            await google.colab.kernel.invokeFunction('convertToInteractive',\n",
              "                                                     [key], {});\n",
              "          if (!dataTable) return;\n",
              "\n",
              "          const docLinkHtml = 'Like what you see? Visit the ' +\n",
              "            '<a target=\"_blank\" href=https://colab.research.google.com/notebooks/data_table.ipynb>data table notebook</a>'\n",
              "            + ' to learn more about interactive tables.';\n",
              "          element.innerHTML = '';\n",
              "          dataTable['output_type'] = 'display_data';\n",
              "          await google.colab.output.renderOutput(dataTable, element);\n",
              "          const docLink = document.createElement('div');\n",
              "          docLink.innerHTML = docLinkHtml;\n",
              "          element.appendChild(docLink);\n",
              "        }\n",
              "      </script>\n",
              "    </div>\n",
              "  </div>\n",
              "  "
            ]
          },
          "metadata": {},
          "execution_count": 8
        }
      ]
    },
    {
      "cell_type": "code",
      "source": [
        "data0012_new = data0012[['userName', 'score', 'at', 'content']]\n",
        "data0012_sorted= data0012_new.sort_values(by='at', ascending=False)\n",
        "data0012_sorted.head()"
      ],
      "metadata": {
        "colab": {
          "base_uri": "https://localhost:8080/",
          "height": 337
        },
        "id": "bEX_K9AURqq-",
        "outputId": "81d22c77-8936-4196-c9a6-1856b66b0fb9"
      },
      "execution_count": null,
      "outputs": [
        {
          "output_type": "execute_result",
          "data": {
            "text/plain": [
              "                 userName  score                  at  \\\n",
              "10         agus Hariyanto      2 2022-03-29 14:11:22   \n",
              "5         Irma Kurniawati      1 2022-03-29 10:35:48   \n",
              "17             Arum Sukma      2 2022-03-29 02:46:06   \n",
              "1       natalia chrisanti      1 2022-03-28 12:48:59   \n",
              "9   Yohanes Eko Nurdianto      3 2022-03-28 10:25:16   \n",
              "\n",
              "                                              content  \n",
              "10  Aplikasi sering sekali erro ketika mau pesan.....  \n",
              "5   Sistemnya lambat, belum lagi bayarnya ga prakt...  \n",
              "17  Tolong perbaiki lagi sistemnya, masa setiap ma...  \n",
              "1   Jelek bgt bgt aplikasinya. Gampang ngelag!! Ya...  \n",
              "9   Terlalu sering melakukan update apps tapi laya...  "
            ],
            "text/html": [
              "\n",
              "  <div id=\"df-101bd64a-af60-4101-bf54-5ce225fabb7c\">\n",
              "    <div class=\"colab-df-container\">\n",
              "      <div>\n",
              "<style scoped>\n",
              "    .dataframe tbody tr th:only-of-type {\n",
              "        vertical-align: middle;\n",
              "    }\n",
              "\n",
              "    .dataframe tbody tr th {\n",
              "        vertical-align: top;\n",
              "    }\n",
              "\n",
              "    .dataframe thead th {\n",
              "        text-align: right;\n",
              "    }\n",
              "</style>\n",
              "<table border=\"1\" class=\"dataframe\">\n",
              "  <thead>\n",
              "    <tr style=\"text-align: right;\">\n",
              "      <th></th>\n",
              "      <th>userName</th>\n",
              "      <th>score</th>\n",
              "      <th>at</th>\n",
              "      <th>content</th>\n",
              "    </tr>\n",
              "  </thead>\n",
              "  <tbody>\n",
              "    <tr>\n",
              "      <th>10</th>\n",
              "      <td>agus Hariyanto</td>\n",
              "      <td>2</td>\n",
              "      <td>2022-03-29 14:11:22</td>\n",
              "      <td>Aplikasi sering sekali erro ketika mau pesan.....</td>\n",
              "    </tr>\n",
              "    <tr>\n",
              "      <th>5</th>\n",
              "      <td>Irma Kurniawati</td>\n",
              "      <td>1</td>\n",
              "      <td>2022-03-29 10:35:48</td>\n",
              "      <td>Sistemnya lambat, belum lagi bayarnya ga prakt...</td>\n",
              "    </tr>\n",
              "    <tr>\n",
              "      <th>17</th>\n",
              "      <td>Arum Sukma</td>\n",
              "      <td>2</td>\n",
              "      <td>2022-03-29 02:46:06</td>\n",
              "      <td>Tolong perbaiki lagi sistemnya, masa setiap ma...</td>\n",
              "    </tr>\n",
              "    <tr>\n",
              "      <th>1</th>\n",
              "      <td>natalia chrisanti</td>\n",
              "      <td>1</td>\n",
              "      <td>2022-03-28 12:48:59</td>\n",
              "      <td>Jelek bgt bgt aplikasinya. Gampang ngelag!! Ya...</td>\n",
              "    </tr>\n",
              "    <tr>\n",
              "      <th>9</th>\n",
              "      <td>Yohanes Eko Nurdianto</td>\n",
              "      <td>3</td>\n",
              "      <td>2022-03-28 10:25:16</td>\n",
              "      <td>Terlalu sering melakukan update apps tapi laya...</td>\n",
              "    </tr>\n",
              "  </tbody>\n",
              "</table>\n",
              "</div>\n",
              "      <button class=\"colab-df-convert\" onclick=\"convertToInteractive('df-101bd64a-af60-4101-bf54-5ce225fabb7c')\"\n",
              "              title=\"Convert this dataframe to an interactive table.\"\n",
              "              style=\"display:none;\">\n",
              "        \n",
              "  <svg xmlns=\"http://www.w3.org/2000/svg\" height=\"24px\"viewBox=\"0 0 24 24\"\n",
              "       width=\"24px\">\n",
              "    <path d=\"M0 0h24v24H0V0z\" fill=\"none\"/>\n",
              "    <path d=\"M18.56 5.44l.94 2.06.94-2.06 2.06-.94-2.06-.94-.94-2.06-.94 2.06-2.06.94zm-11 1L8.5 8.5l.94-2.06 2.06-.94-2.06-.94L8.5 2.5l-.94 2.06-2.06.94zm10 10l.94 2.06.94-2.06 2.06-.94-2.06-.94-.94-2.06-.94 2.06-2.06.94z\"/><path d=\"M17.41 7.96l-1.37-1.37c-.4-.4-.92-.59-1.43-.59-.52 0-1.04.2-1.43.59L10.3 9.45l-7.72 7.72c-.78.78-.78 2.05 0 2.83L4 21.41c.39.39.9.59 1.41.59.51 0 1.02-.2 1.41-.59l7.78-7.78 2.81-2.81c.8-.78.8-2.07 0-2.86zM5.41 20L4 18.59l7.72-7.72 1.47 1.35L5.41 20z\"/>\n",
              "  </svg>\n",
              "      </button>\n",
              "      \n",
              "  <style>\n",
              "    .colab-df-container {\n",
              "      display:flex;\n",
              "      flex-wrap:wrap;\n",
              "      gap: 12px;\n",
              "    }\n",
              "\n",
              "    .colab-df-convert {\n",
              "      background-color: #E8F0FE;\n",
              "      border: none;\n",
              "      border-radius: 50%;\n",
              "      cursor: pointer;\n",
              "      display: none;\n",
              "      fill: #1967D2;\n",
              "      height: 32px;\n",
              "      padding: 0 0 0 0;\n",
              "      width: 32px;\n",
              "    }\n",
              "\n",
              "    .colab-df-convert:hover {\n",
              "      background-color: #E2EBFA;\n",
              "      box-shadow: 0px 1px 2px rgba(60, 64, 67, 0.3), 0px 1px 3px 1px rgba(60, 64, 67, 0.15);\n",
              "      fill: #174EA6;\n",
              "    }\n",
              "\n",
              "    [theme=dark] .colab-df-convert {\n",
              "      background-color: #3B4455;\n",
              "      fill: #D2E3FC;\n",
              "    }\n",
              "\n",
              "    [theme=dark] .colab-df-convert:hover {\n",
              "      background-color: #434B5C;\n",
              "      box-shadow: 0px 1px 3px 1px rgba(0, 0, 0, 0.15);\n",
              "      filter: drop-shadow(0px 1px 2px rgba(0, 0, 0, 0.3));\n",
              "      fill: #FFFFFF;\n",
              "    }\n",
              "  </style>\n",
              "\n",
              "      <script>\n",
              "        const buttonEl =\n",
              "          document.querySelector('#df-101bd64a-af60-4101-bf54-5ce225fabb7c button.colab-df-convert');\n",
              "        buttonEl.style.display =\n",
              "          google.colab.kernel.accessAllowed ? 'block' : 'none';\n",
              "\n",
              "        async function convertToInteractive(key) {\n",
              "          const element = document.querySelector('#df-101bd64a-af60-4101-bf54-5ce225fabb7c');\n",
              "          const dataTable =\n",
              "            await google.colab.kernel.invokeFunction('convertToInteractive',\n",
              "                                                     [key], {});\n",
              "          if (!dataTable) return;\n",
              "\n",
              "          const docLinkHtml = 'Like what you see? Visit the ' +\n",
              "            '<a target=\"_blank\" href=https://colab.research.google.com/notebooks/data_table.ipynb>data table notebook</a>'\n",
              "            + ' to learn more about interactive tables.';\n",
              "          element.innerHTML = '';\n",
              "          dataTable['output_type'] = 'display_data';\n",
              "          await google.colab.output.renderOutput(dataTable, element);\n",
              "          const docLink = document.createElement('div');\n",
              "          docLink.innerHTML = docLinkHtml;\n",
              "          element.appendChild(docLink);\n",
              "        }\n",
              "      </script>\n",
              "    </div>\n",
              "  </div>\n",
              "  "
            ]
          },
          "metadata": {},
          "execution_count": 9
        }
      ]
    },
    {
      "cell_type": "code",
      "source": [
        "data0012_scrape = data0012_sorted[['userName', 'score', 'at', 'content']]"
      ],
      "metadata": {
        "id": "V6BJouPiSnRq"
      },
      "execution_count": null,
      "outputs": []
    },
    {
      "cell_type": "code",
      "source": [
        "data0012_scrape.head()"
      ],
      "metadata": {
        "colab": {
          "base_uri": "https://localhost:8080/",
          "height": 337
        },
        "id": "2aJllurmxbxv",
        "outputId": "28227c3a-bb08-4500-c018-c2feb9cd4676"
      },
      "execution_count": null,
      "outputs": [
        {
          "output_type": "execute_result",
          "data": {
            "text/plain": [
              "                 userName  score                  at  \\\n",
              "10         agus Hariyanto      2 2022-03-29 14:11:22   \n",
              "5         Irma Kurniawati      1 2022-03-29 10:35:48   \n",
              "17             Arum Sukma      2 2022-03-29 02:46:06   \n",
              "1       natalia chrisanti      1 2022-03-28 12:48:59   \n",
              "9   Yohanes Eko Nurdianto      3 2022-03-28 10:25:16   \n",
              "\n",
              "                                              content  \n",
              "10  Aplikasi sering sekali erro ketika mau pesan.....  \n",
              "5   Sistemnya lambat, belum lagi bayarnya ga prakt...  \n",
              "17  Tolong perbaiki lagi sistemnya, masa setiap ma...  \n",
              "1   Jelek bgt bgt aplikasinya. Gampang ngelag!! Ya...  \n",
              "9   Terlalu sering melakukan update apps tapi laya...  "
            ],
            "text/html": [
              "\n",
              "  <div id=\"df-14bf882c-dfc9-41f0-ad16-8ff0c62efe9d\">\n",
              "    <div class=\"colab-df-container\">\n",
              "      <div>\n",
              "<style scoped>\n",
              "    .dataframe tbody tr th:only-of-type {\n",
              "        vertical-align: middle;\n",
              "    }\n",
              "\n",
              "    .dataframe tbody tr th {\n",
              "        vertical-align: top;\n",
              "    }\n",
              "\n",
              "    .dataframe thead th {\n",
              "        text-align: right;\n",
              "    }\n",
              "</style>\n",
              "<table border=\"1\" class=\"dataframe\">\n",
              "  <thead>\n",
              "    <tr style=\"text-align: right;\">\n",
              "      <th></th>\n",
              "      <th>userName</th>\n",
              "      <th>score</th>\n",
              "      <th>at</th>\n",
              "      <th>content</th>\n",
              "    </tr>\n",
              "  </thead>\n",
              "  <tbody>\n",
              "    <tr>\n",
              "      <th>10</th>\n",
              "      <td>agus Hariyanto</td>\n",
              "      <td>2</td>\n",
              "      <td>2022-03-29 14:11:22</td>\n",
              "      <td>Aplikasi sering sekali erro ketika mau pesan.....</td>\n",
              "    </tr>\n",
              "    <tr>\n",
              "      <th>5</th>\n",
              "      <td>Irma Kurniawati</td>\n",
              "      <td>1</td>\n",
              "      <td>2022-03-29 10:35:48</td>\n",
              "      <td>Sistemnya lambat, belum lagi bayarnya ga prakt...</td>\n",
              "    </tr>\n",
              "    <tr>\n",
              "      <th>17</th>\n",
              "      <td>Arum Sukma</td>\n",
              "      <td>2</td>\n",
              "      <td>2022-03-29 02:46:06</td>\n",
              "      <td>Tolong perbaiki lagi sistemnya, masa setiap ma...</td>\n",
              "    </tr>\n",
              "    <tr>\n",
              "      <th>1</th>\n",
              "      <td>natalia chrisanti</td>\n",
              "      <td>1</td>\n",
              "      <td>2022-03-28 12:48:59</td>\n",
              "      <td>Jelek bgt bgt aplikasinya. Gampang ngelag!! Ya...</td>\n",
              "    </tr>\n",
              "    <tr>\n",
              "      <th>9</th>\n",
              "      <td>Yohanes Eko Nurdianto</td>\n",
              "      <td>3</td>\n",
              "      <td>2022-03-28 10:25:16</td>\n",
              "      <td>Terlalu sering melakukan update apps tapi laya...</td>\n",
              "    </tr>\n",
              "  </tbody>\n",
              "</table>\n",
              "</div>\n",
              "      <button class=\"colab-df-convert\" onclick=\"convertToInteractive('df-14bf882c-dfc9-41f0-ad16-8ff0c62efe9d')\"\n",
              "              title=\"Convert this dataframe to an interactive table.\"\n",
              "              style=\"display:none;\">\n",
              "        \n",
              "  <svg xmlns=\"http://www.w3.org/2000/svg\" height=\"24px\"viewBox=\"0 0 24 24\"\n",
              "       width=\"24px\">\n",
              "    <path d=\"M0 0h24v24H0V0z\" fill=\"none\"/>\n",
              "    <path d=\"M18.56 5.44l.94 2.06.94-2.06 2.06-.94-2.06-.94-.94-2.06-.94 2.06-2.06.94zm-11 1L8.5 8.5l.94-2.06 2.06-.94-2.06-.94L8.5 2.5l-.94 2.06-2.06.94zm10 10l.94 2.06.94-2.06 2.06-.94-2.06-.94-.94-2.06-.94 2.06-2.06.94z\"/><path d=\"M17.41 7.96l-1.37-1.37c-.4-.4-.92-.59-1.43-.59-.52 0-1.04.2-1.43.59L10.3 9.45l-7.72 7.72c-.78.78-.78 2.05 0 2.83L4 21.41c.39.39.9.59 1.41.59.51 0 1.02-.2 1.41-.59l7.78-7.78 2.81-2.81c.8-.78.8-2.07 0-2.86zM5.41 20L4 18.59l7.72-7.72 1.47 1.35L5.41 20z\"/>\n",
              "  </svg>\n",
              "      </button>\n",
              "      \n",
              "  <style>\n",
              "    .colab-df-container {\n",
              "      display:flex;\n",
              "      flex-wrap:wrap;\n",
              "      gap: 12px;\n",
              "    }\n",
              "\n",
              "    .colab-df-convert {\n",
              "      background-color: #E8F0FE;\n",
              "      border: none;\n",
              "      border-radius: 50%;\n",
              "      cursor: pointer;\n",
              "      display: none;\n",
              "      fill: #1967D2;\n",
              "      height: 32px;\n",
              "      padding: 0 0 0 0;\n",
              "      width: 32px;\n",
              "    }\n",
              "\n",
              "    .colab-df-convert:hover {\n",
              "      background-color: #E2EBFA;\n",
              "      box-shadow: 0px 1px 2px rgba(60, 64, 67, 0.3), 0px 1px 3px 1px rgba(60, 64, 67, 0.15);\n",
              "      fill: #174EA6;\n",
              "    }\n",
              "\n",
              "    [theme=dark] .colab-df-convert {\n",
              "      background-color: #3B4455;\n",
              "      fill: #D2E3FC;\n",
              "    }\n",
              "\n",
              "    [theme=dark] .colab-df-convert:hover {\n",
              "      background-color: #434B5C;\n",
              "      box-shadow: 0px 1px 3px 1px rgba(0, 0, 0, 0.15);\n",
              "      filter: drop-shadow(0px 1px 2px rgba(0, 0, 0, 0.3));\n",
              "      fill: #FFFFFF;\n",
              "    }\n",
              "  </style>\n",
              "\n",
              "      <script>\n",
              "        const buttonEl =\n",
              "          document.querySelector('#df-14bf882c-dfc9-41f0-ad16-8ff0c62efe9d button.colab-df-convert');\n",
              "        buttonEl.style.display =\n",
              "          google.colab.kernel.accessAllowed ? 'block' : 'none';\n",
              "\n",
              "        async function convertToInteractive(key) {\n",
              "          const element = document.querySelector('#df-14bf882c-dfc9-41f0-ad16-8ff0c62efe9d');\n",
              "          const dataTable =\n",
              "            await google.colab.kernel.invokeFunction('convertToInteractive',\n",
              "                                                     [key], {});\n",
              "          if (!dataTable) return;\n",
              "\n",
              "          const docLinkHtml = 'Like what you see? Visit the ' +\n",
              "            '<a target=\"_blank\" href=https://colab.research.google.com/notebooks/data_table.ipynb>data table notebook</a>'\n",
              "            + ' to learn more about interactive tables.';\n",
              "          element.innerHTML = '';\n",
              "          dataTable['output_type'] = 'display_data';\n",
              "          await google.colab.output.renderOutput(dataTable, element);\n",
              "          const docLink = document.createElement('div');\n",
              "          docLink.innerHTML = docLinkHtml;\n",
              "          element.appendChild(docLink);\n",
              "        }\n",
              "      </script>\n",
              "    </div>\n",
              "  </div>\n",
              "  "
            ]
          },
          "metadata": {},
          "execution_count": 13
        }
      ]
    },
    {
      "cell_type": "code",
      "source": [
        "data0012_scrape.to_csv(\"KAI_scrape_data.csv\", index = False)"
      ],
      "metadata": {
        "id": "p9Gk8fyTxuDg"
      },
      "execution_count": null,
      "outputs": []
    },
    {
      "cell_type": "code",
      "source": [
        "!pip install sastrawi"
      ],
      "metadata": {
        "colab": {
          "base_uri": "https://localhost:8080/"
        },
        "id": "VNMTEDx-yuuD",
        "outputId": "5600f627-5c59-488e-9404-e8995d33dbc7"
      },
      "execution_count": null,
      "outputs": [
        {
          "output_type": "stream",
          "name": "stdout",
          "text": [
            "Requirement already satisfied: sastrawi in /usr/local/lib/python3.7/dist-packages (1.0.1)\n"
          ]
        }
      ]
    },
    {
      "cell_type": "code",
      "source": [
        "!pip install vaderSentiment"
      ],
      "metadata": {
        "colab": {
          "base_uri": "https://localhost:8080/"
        },
        "id": "l9R18Foqy21o",
        "outputId": "bfe58578-93b9-4d6b-84b9-b8e3ad03bcf5"
      },
      "execution_count": null,
      "outputs": [
        {
          "output_type": "stream",
          "name": "stdout",
          "text": [
            "Collecting vaderSentiment\n",
            "  Downloading vaderSentiment-3.3.2-py2.py3-none-any.whl (125 kB)\n",
            "\u001b[K     |████████████████████████████████| 125 kB 4.7 MB/s \n",
            "\u001b[?25hRequirement already satisfied: requests in /usr/local/lib/python3.7/dist-packages (from vaderSentiment) (2.23.0)\n",
            "Requirement already satisfied: certifi>=2017.4.17 in /usr/local/lib/python3.7/dist-packages (from requests->vaderSentiment) (2021.10.8)\n",
            "Requirement already satisfied: idna<3,>=2.5 in /usr/local/lib/python3.7/dist-packages (from requests->vaderSentiment) (2.10)\n",
            "Requirement already satisfied: urllib3!=1.25.0,!=1.25.1,<1.26,>=1.21.1 in /usr/local/lib/python3.7/dist-packages (from requests->vaderSentiment) (1.24.3)\n",
            "Requirement already satisfied: chardet<4,>=3.0.2 in /usr/local/lib/python3.7/dist-packages (from requests->vaderSentiment) (3.0.4)\n",
            "Installing collected packages: vaderSentiment\n",
            "Successfully installed vaderSentiment-3.3.2\n"
          ]
        }
      ]
    },
    {
      "cell_type": "code",
      "source": [
        "import pandas as pd\n",
        "import numpy as np\n",
        "import matplotlib.pyplot as plt\n",
        "import re\n",
        "import string\n",
        "import nltk\n",
        "from nltk.sentiment.vader import SentimentIntensityAnalyzer"
      ],
      "metadata": {
        "id": "ZqwLNuQSzCnF"
      },
      "execution_count": null,
      "outputs": []
    },
    {
      "cell_type": "code",
      "source": [
        "df0012 = pd.read_csv('/content/KAI_scrape_data.csv')\n",
        "df0012.head(5)"
      ],
      "metadata": {
        "colab": {
          "base_uri": "https://localhost:8080/",
          "height": 337
        },
        "id": "oTQSk9byzkUY",
        "outputId": "06ace351-e7b8-403f-943f-ba9b0c5909e4"
      },
      "execution_count": null,
      "outputs": [
        {
          "output_type": "execute_result",
          "data": {
            "text/plain": [
              "                userName  score                   at  \\\n",
              "0         agus Hariyanto      2  2022-03-29 14:11:22   \n",
              "1        Irma Kurniawati      1  2022-03-29 10:35:48   \n",
              "2             Arum Sukma      2  2022-03-29 02:46:06   \n",
              "3      natalia chrisanti      1  2022-03-28 12:48:59   \n",
              "4  Yohanes Eko Nurdianto      3  2022-03-28 10:25:16   \n",
              "\n",
              "                                             content  \n",
              "0  Aplikasi sering sekali erro ketika mau pesan.....  \n",
              "1  Sistemnya lambat, belum lagi bayarnya ga prakt...  \n",
              "2  Tolong perbaiki lagi sistemnya, masa setiap ma...  \n",
              "3  Jelek bgt bgt aplikasinya. Gampang ngelag!! Ya...  \n",
              "4  Terlalu sering melakukan update apps tapi laya...  "
            ],
            "text/html": [
              "\n",
              "  <div id=\"df-133225c7-b553-4db8-ab22-35bfb1e9a974\">\n",
              "    <div class=\"colab-df-container\">\n",
              "      <div>\n",
              "<style scoped>\n",
              "    .dataframe tbody tr th:only-of-type {\n",
              "        vertical-align: middle;\n",
              "    }\n",
              "\n",
              "    .dataframe tbody tr th {\n",
              "        vertical-align: top;\n",
              "    }\n",
              "\n",
              "    .dataframe thead th {\n",
              "        text-align: right;\n",
              "    }\n",
              "</style>\n",
              "<table border=\"1\" class=\"dataframe\">\n",
              "  <thead>\n",
              "    <tr style=\"text-align: right;\">\n",
              "      <th></th>\n",
              "      <th>userName</th>\n",
              "      <th>score</th>\n",
              "      <th>at</th>\n",
              "      <th>content</th>\n",
              "    </tr>\n",
              "  </thead>\n",
              "  <tbody>\n",
              "    <tr>\n",
              "      <th>0</th>\n",
              "      <td>agus Hariyanto</td>\n",
              "      <td>2</td>\n",
              "      <td>2022-03-29 14:11:22</td>\n",
              "      <td>Aplikasi sering sekali erro ketika mau pesan.....</td>\n",
              "    </tr>\n",
              "    <tr>\n",
              "      <th>1</th>\n",
              "      <td>Irma Kurniawati</td>\n",
              "      <td>1</td>\n",
              "      <td>2022-03-29 10:35:48</td>\n",
              "      <td>Sistemnya lambat, belum lagi bayarnya ga prakt...</td>\n",
              "    </tr>\n",
              "    <tr>\n",
              "      <th>2</th>\n",
              "      <td>Arum Sukma</td>\n",
              "      <td>2</td>\n",
              "      <td>2022-03-29 02:46:06</td>\n",
              "      <td>Tolong perbaiki lagi sistemnya, masa setiap ma...</td>\n",
              "    </tr>\n",
              "    <tr>\n",
              "      <th>3</th>\n",
              "      <td>natalia chrisanti</td>\n",
              "      <td>1</td>\n",
              "      <td>2022-03-28 12:48:59</td>\n",
              "      <td>Jelek bgt bgt aplikasinya. Gampang ngelag!! Ya...</td>\n",
              "    </tr>\n",
              "    <tr>\n",
              "      <th>4</th>\n",
              "      <td>Yohanes Eko Nurdianto</td>\n",
              "      <td>3</td>\n",
              "      <td>2022-03-28 10:25:16</td>\n",
              "      <td>Terlalu sering melakukan update apps tapi laya...</td>\n",
              "    </tr>\n",
              "  </tbody>\n",
              "</table>\n",
              "</div>\n",
              "      <button class=\"colab-df-convert\" onclick=\"convertToInteractive('df-133225c7-b553-4db8-ab22-35bfb1e9a974')\"\n",
              "              title=\"Convert this dataframe to an interactive table.\"\n",
              "              style=\"display:none;\">\n",
              "        \n",
              "  <svg xmlns=\"http://www.w3.org/2000/svg\" height=\"24px\"viewBox=\"0 0 24 24\"\n",
              "       width=\"24px\">\n",
              "    <path d=\"M0 0h24v24H0V0z\" fill=\"none\"/>\n",
              "    <path d=\"M18.56 5.44l.94 2.06.94-2.06 2.06-.94-2.06-.94-.94-2.06-.94 2.06-2.06.94zm-11 1L8.5 8.5l.94-2.06 2.06-.94-2.06-.94L8.5 2.5l-.94 2.06-2.06.94zm10 10l.94 2.06.94-2.06 2.06-.94-2.06-.94-.94-2.06-.94 2.06-2.06.94z\"/><path d=\"M17.41 7.96l-1.37-1.37c-.4-.4-.92-.59-1.43-.59-.52 0-1.04.2-1.43.59L10.3 9.45l-7.72 7.72c-.78.78-.78 2.05 0 2.83L4 21.41c.39.39.9.59 1.41.59.51 0 1.02-.2 1.41-.59l7.78-7.78 2.81-2.81c.8-.78.8-2.07 0-2.86zM5.41 20L4 18.59l7.72-7.72 1.47 1.35L5.41 20z\"/>\n",
              "  </svg>\n",
              "      </button>\n",
              "      \n",
              "  <style>\n",
              "    .colab-df-container {\n",
              "      display:flex;\n",
              "      flex-wrap:wrap;\n",
              "      gap: 12px;\n",
              "    }\n",
              "\n",
              "    .colab-df-convert {\n",
              "      background-color: #E8F0FE;\n",
              "      border: none;\n",
              "      border-radius: 50%;\n",
              "      cursor: pointer;\n",
              "      display: none;\n",
              "      fill: #1967D2;\n",
              "      height: 32px;\n",
              "      padding: 0 0 0 0;\n",
              "      width: 32px;\n",
              "    }\n",
              "\n",
              "    .colab-df-convert:hover {\n",
              "      background-color: #E2EBFA;\n",
              "      box-shadow: 0px 1px 2px rgba(60, 64, 67, 0.3), 0px 1px 3px 1px rgba(60, 64, 67, 0.15);\n",
              "      fill: #174EA6;\n",
              "    }\n",
              "\n",
              "    [theme=dark] .colab-df-convert {\n",
              "      background-color: #3B4455;\n",
              "      fill: #D2E3FC;\n",
              "    }\n",
              "\n",
              "    [theme=dark] .colab-df-convert:hover {\n",
              "      background-color: #434B5C;\n",
              "      box-shadow: 0px 1px 3px 1px rgba(0, 0, 0, 0.15);\n",
              "      filter: drop-shadow(0px 1px 2px rgba(0, 0, 0, 0.3));\n",
              "      fill: #FFFFFF;\n",
              "    }\n",
              "  </style>\n",
              "\n",
              "      <script>\n",
              "        const buttonEl =\n",
              "          document.querySelector('#df-133225c7-b553-4db8-ab22-35bfb1e9a974 button.colab-df-convert');\n",
              "        buttonEl.style.display =\n",
              "          google.colab.kernel.accessAllowed ? 'block' : 'none';\n",
              "\n",
              "        async function convertToInteractive(key) {\n",
              "          const element = document.querySelector('#df-133225c7-b553-4db8-ab22-35bfb1e9a974');\n",
              "          const dataTable =\n",
              "            await google.colab.kernel.invokeFunction('convertToInteractive',\n",
              "                                                     [key], {});\n",
              "          if (!dataTable) return;\n",
              "\n",
              "          const docLinkHtml = 'Like what you see? Visit the ' +\n",
              "            '<a target=\"_blank\" href=https://colab.research.google.com/notebooks/data_table.ipynb>data table notebook</a>'\n",
              "            + ' to learn more about interactive tables.';\n",
              "          element.innerHTML = '';\n",
              "          dataTable['output_type'] = 'display_data';\n",
              "          await google.colab.output.renderOutput(dataTable, element);\n",
              "          const docLink = document.createElement('div');\n",
              "          docLink.innerHTML = docLinkHtml;\n",
              "          element.appendChild(docLink);\n",
              "        }\n",
              "      </script>\n",
              "    </div>\n",
              "  </div>\n",
              "  "
            ]
          },
          "metadata": {},
          "execution_count": 20
        }
      ]
    },
    {
      "cell_type": "code",
      "source": [
        "df0012.shape"
      ],
      "metadata": {
        "colab": {
          "base_uri": "https://localhost:8080/"
        },
        "id": "X-6rSNRr0IYJ",
        "outputId": "f7432715-d727-45ac-c547-973ae335d725"
      },
      "execution_count": null,
      "outputs": [
        {
          "output_type": "execute_result",
          "data": {
            "text/plain": [
              "(50, 4)"
            ]
          },
          "metadata": {},
          "execution_count": 21
        }
      ]
    },
    {
      "cell_type": "code",
      "source": [
        "sentimen = []\n",
        "for index, row in df0012.iterrows():\n",
        "  if row['score'] > 3:\n",
        "    sentimen.append ('1')\n",
        "  else :\n",
        "    sentimen.append ('0')\n",
        "\n",
        "df0012['sentiment'] = sentimen\n",
        "df0012.head()"
      ],
      "metadata": {
        "colab": {
          "base_uri": "https://localhost:8080/",
          "height": 337
        },
        "id": "C-OMmKan0SAl",
        "outputId": "2c892add-8272-4969-a63e-f9c51aa624c6"
      },
      "execution_count": null,
      "outputs": [
        {
          "output_type": "execute_result",
          "data": {
            "text/plain": [
              "                userName  score                   at  \\\n",
              "0         agus Hariyanto      2  2022-03-29 14:11:22   \n",
              "1        Irma Kurniawati      1  2022-03-29 10:35:48   \n",
              "2             Arum Sukma      2  2022-03-29 02:46:06   \n",
              "3      natalia chrisanti      1  2022-03-28 12:48:59   \n",
              "4  Yohanes Eko Nurdianto      3  2022-03-28 10:25:16   \n",
              "\n",
              "                                             content sentiment  \n",
              "0  Aplikasi sering sekali erro ketika mau pesan.....         0  \n",
              "1  Sistemnya lambat, belum lagi bayarnya ga prakt...         0  \n",
              "2  Tolong perbaiki lagi sistemnya, masa setiap ma...         0  \n",
              "3  Jelek bgt bgt aplikasinya. Gampang ngelag!! Ya...         0  \n",
              "4  Terlalu sering melakukan update apps tapi laya...         0  "
            ],
            "text/html": [
              "\n",
              "  <div id=\"df-db4c85e3-2c29-4659-b0d5-7dc29e531246\">\n",
              "    <div class=\"colab-df-container\">\n",
              "      <div>\n",
              "<style scoped>\n",
              "    .dataframe tbody tr th:only-of-type {\n",
              "        vertical-align: middle;\n",
              "    }\n",
              "\n",
              "    .dataframe tbody tr th {\n",
              "        vertical-align: top;\n",
              "    }\n",
              "\n",
              "    .dataframe thead th {\n",
              "        text-align: right;\n",
              "    }\n",
              "</style>\n",
              "<table border=\"1\" class=\"dataframe\">\n",
              "  <thead>\n",
              "    <tr style=\"text-align: right;\">\n",
              "      <th></th>\n",
              "      <th>userName</th>\n",
              "      <th>score</th>\n",
              "      <th>at</th>\n",
              "      <th>content</th>\n",
              "      <th>sentiment</th>\n",
              "    </tr>\n",
              "  </thead>\n",
              "  <tbody>\n",
              "    <tr>\n",
              "      <th>0</th>\n",
              "      <td>agus Hariyanto</td>\n",
              "      <td>2</td>\n",
              "      <td>2022-03-29 14:11:22</td>\n",
              "      <td>Aplikasi sering sekali erro ketika mau pesan.....</td>\n",
              "      <td>0</td>\n",
              "    </tr>\n",
              "    <tr>\n",
              "      <th>1</th>\n",
              "      <td>Irma Kurniawati</td>\n",
              "      <td>1</td>\n",
              "      <td>2022-03-29 10:35:48</td>\n",
              "      <td>Sistemnya lambat, belum lagi bayarnya ga prakt...</td>\n",
              "      <td>0</td>\n",
              "    </tr>\n",
              "    <tr>\n",
              "      <th>2</th>\n",
              "      <td>Arum Sukma</td>\n",
              "      <td>2</td>\n",
              "      <td>2022-03-29 02:46:06</td>\n",
              "      <td>Tolong perbaiki lagi sistemnya, masa setiap ma...</td>\n",
              "      <td>0</td>\n",
              "    </tr>\n",
              "    <tr>\n",
              "      <th>3</th>\n",
              "      <td>natalia chrisanti</td>\n",
              "      <td>1</td>\n",
              "      <td>2022-03-28 12:48:59</td>\n",
              "      <td>Jelek bgt bgt aplikasinya. Gampang ngelag!! Ya...</td>\n",
              "      <td>0</td>\n",
              "    </tr>\n",
              "    <tr>\n",
              "      <th>4</th>\n",
              "      <td>Yohanes Eko Nurdianto</td>\n",
              "      <td>3</td>\n",
              "      <td>2022-03-28 10:25:16</td>\n",
              "      <td>Terlalu sering melakukan update apps tapi laya...</td>\n",
              "      <td>0</td>\n",
              "    </tr>\n",
              "  </tbody>\n",
              "</table>\n",
              "</div>\n",
              "      <button class=\"colab-df-convert\" onclick=\"convertToInteractive('df-db4c85e3-2c29-4659-b0d5-7dc29e531246')\"\n",
              "              title=\"Convert this dataframe to an interactive table.\"\n",
              "              style=\"display:none;\">\n",
              "        \n",
              "  <svg xmlns=\"http://www.w3.org/2000/svg\" height=\"24px\"viewBox=\"0 0 24 24\"\n",
              "       width=\"24px\">\n",
              "    <path d=\"M0 0h24v24H0V0z\" fill=\"none\"/>\n",
              "    <path d=\"M18.56 5.44l.94 2.06.94-2.06 2.06-.94-2.06-.94-.94-2.06-.94 2.06-2.06.94zm-11 1L8.5 8.5l.94-2.06 2.06-.94-2.06-.94L8.5 2.5l-.94 2.06-2.06.94zm10 10l.94 2.06.94-2.06 2.06-.94-2.06-.94-.94-2.06-.94 2.06-2.06.94z\"/><path d=\"M17.41 7.96l-1.37-1.37c-.4-.4-.92-.59-1.43-.59-.52 0-1.04.2-1.43.59L10.3 9.45l-7.72 7.72c-.78.78-.78 2.05 0 2.83L4 21.41c.39.39.9.59 1.41.59.51 0 1.02-.2 1.41-.59l7.78-7.78 2.81-2.81c.8-.78.8-2.07 0-2.86zM5.41 20L4 18.59l7.72-7.72 1.47 1.35L5.41 20z\"/>\n",
              "  </svg>\n",
              "      </button>\n",
              "      \n",
              "  <style>\n",
              "    .colab-df-container {\n",
              "      display:flex;\n",
              "      flex-wrap:wrap;\n",
              "      gap: 12px;\n",
              "    }\n",
              "\n",
              "    .colab-df-convert {\n",
              "      background-color: #E8F0FE;\n",
              "      border: none;\n",
              "      border-radius: 50%;\n",
              "      cursor: pointer;\n",
              "      display: none;\n",
              "      fill: #1967D2;\n",
              "      height: 32px;\n",
              "      padding: 0 0 0 0;\n",
              "      width: 32px;\n",
              "    }\n",
              "\n",
              "    .colab-df-convert:hover {\n",
              "      background-color: #E2EBFA;\n",
              "      box-shadow: 0px 1px 2px rgba(60, 64, 67, 0.3), 0px 1px 3px 1px rgba(60, 64, 67, 0.15);\n",
              "      fill: #174EA6;\n",
              "    }\n",
              "\n",
              "    [theme=dark] .colab-df-convert {\n",
              "      background-color: #3B4455;\n",
              "      fill: #D2E3FC;\n",
              "    }\n",
              "\n",
              "    [theme=dark] .colab-df-convert:hover {\n",
              "      background-color: #434B5C;\n",
              "      box-shadow: 0px 1px 3px 1px rgba(0, 0, 0, 0.15);\n",
              "      filter: drop-shadow(0px 1px 2px rgba(0, 0, 0, 0.3));\n",
              "      fill: #FFFFFF;\n",
              "    }\n",
              "  </style>\n",
              "\n",
              "      <script>\n",
              "        const buttonEl =\n",
              "          document.querySelector('#df-db4c85e3-2c29-4659-b0d5-7dc29e531246 button.colab-df-convert');\n",
              "        buttonEl.style.display =\n",
              "          google.colab.kernel.accessAllowed ? 'block' : 'none';\n",
              "\n",
              "        async function convertToInteractive(key) {\n",
              "          const element = document.querySelector('#df-db4c85e3-2c29-4659-b0d5-7dc29e531246');\n",
              "          const dataTable =\n",
              "            await google.colab.kernel.invokeFunction('convertToInteractive',\n",
              "                                                     [key], {});\n",
              "          if (!dataTable) return;\n",
              "\n",
              "          const docLinkHtml = 'Like what you see? Visit the ' +\n",
              "            '<a target=\"_blank\" href=https://colab.research.google.com/notebooks/data_table.ipynb>data table notebook</a>'\n",
              "            + ' to learn more about interactive tables.';\n",
              "          element.innerHTML = '';\n",
              "          dataTable['output_type'] = 'display_data';\n",
              "          await google.colab.output.renderOutput(dataTable, element);\n",
              "          const docLink = document.createElement('div');\n",
              "          docLink.innerHTML = docLinkHtml;\n",
              "          element.appendChild(docLink);\n",
              "        }\n",
              "      </script>\n",
              "    </div>\n",
              "  </div>\n",
              "  "
            ]
          },
          "metadata": {},
          "execution_count": 22
        }
      ]
    },
    {
      "cell_type": "code",
      "source": [
        "df0012.shape"
      ],
      "metadata": {
        "colab": {
          "base_uri": "https://localhost:8080/"
        },
        "id": "OfO8sjHN3SSm",
        "outputId": "de706723-1c7d-436c-c23e-c3a2fe833228"
      },
      "execution_count": null,
      "outputs": [
        {
          "output_type": "execute_result",
          "data": {
            "text/plain": [
              "(50, 5)"
            ]
          },
          "metadata": {},
          "execution_count": 23
        }
      ]
    },
    {
      "cell_type": "code",
      "source": [
        "df0012_data = df0012.copy()\n",
        "df0012_data = df0012.drop(columns = ['userName', 'score', 'at'])\n",
        "df0012_data.head()"
      ],
      "metadata": {
        "colab": {
          "base_uri": "https://localhost:8080/",
          "height": 206
        },
        "id": "NmtK5fbu3ccI",
        "outputId": "8bcb4f3b-7279-4b21-b713-26fc78b48505"
      },
      "execution_count": null,
      "outputs": [
        {
          "output_type": "execute_result",
          "data": {
            "text/plain": [
              "                                             content sentiment\n",
              "0  Aplikasi sering sekali erro ketika mau pesan.....         0\n",
              "1  Sistemnya lambat, belum lagi bayarnya ga prakt...         0\n",
              "2  Tolong perbaiki lagi sistemnya, masa setiap ma...         0\n",
              "3  Jelek bgt bgt aplikasinya. Gampang ngelag!! Ya...         0\n",
              "4  Terlalu sering melakukan update apps tapi laya...         0"
            ],
            "text/html": [
              "\n",
              "  <div id=\"df-9d96169b-ac6e-4391-a3e5-4f34bc9eb7dc\">\n",
              "    <div class=\"colab-df-container\">\n",
              "      <div>\n",
              "<style scoped>\n",
              "    .dataframe tbody tr th:only-of-type {\n",
              "        vertical-align: middle;\n",
              "    }\n",
              "\n",
              "    .dataframe tbody tr th {\n",
              "        vertical-align: top;\n",
              "    }\n",
              "\n",
              "    .dataframe thead th {\n",
              "        text-align: right;\n",
              "    }\n",
              "</style>\n",
              "<table border=\"1\" class=\"dataframe\">\n",
              "  <thead>\n",
              "    <tr style=\"text-align: right;\">\n",
              "      <th></th>\n",
              "      <th>content</th>\n",
              "      <th>sentiment</th>\n",
              "    </tr>\n",
              "  </thead>\n",
              "  <tbody>\n",
              "    <tr>\n",
              "      <th>0</th>\n",
              "      <td>Aplikasi sering sekali erro ketika mau pesan.....</td>\n",
              "      <td>0</td>\n",
              "    </tr>\n",
              "    <tr>\n",
              "      <th>1</th>\n",
              "      <td>Sistemnya lambat, belum lagi bayarnya ga prakt...</td>\n",
              "      <td>0</td>\n",
              "    </tr>\n",
              "    <tr>\n",
              "      <th>2</th>\n",
              "      <td>Tolong perbaiki lagi sistemnya, masa setiap ma...</td>\n",
              "      <td>0</td>\n",
              "    </tr>\n",
              "    <tr>\n",
              "      <th>3</th>\n",
              "      <td>Jelek bgt bgt aplikasinya. Gampang ngelag!! Ya...</td>\n",
              "      <td>0</td>\n",
              "    </tr>\n",
              "    <tr>\n",
              "      <th>4</th>\n",
              "      <td>Terlalu sering melakukan update apps tapi laya...</td>\n",
              "      <td>0</td>\n",
              "    </tr>\n",
              "  </tbody>\n",
              "</table>\n",
              "</div>\n",
              "      <button class=\"colab-df-convert\" onclick=\"convertToInteractive('df-9d96169b-ac6e-4391-a3e5-4f34bc9eb7dc')\"\n",
              "              title=\"Convert this dataframe to an interactive table.\"\n",
              "              style=\"display:none;\">\n",
              "        \n",
              "  <svg xmlns=\"http://www.w3.org/2000/svg\" height=\"24px\"viewBox=\"0 0 24 24\"\n",
              "       width=\"24px\">\n",
              "    <path d=\"M0 0h24v24H0V0z\" fill=\"none\"/>\n",
              "    <path d=\"M18.56 5.44l.94 2.06.94-2.06 2.06-.94-2.06-.94-.94-2.06-.94 2.06-2.06.94zm-11 1L8.5 8.5l.94-2.06 2.06-.94-2.06-.94L8.5 2.5l-.94 2.06-2.06.94zm10 10l.94 2.06.94-2.06 2.06-.94-2.06-.94-.94-2.06-.94 2.06-2.06.94z\"/><path d=\"M17.41 7.96l-1.37-1.37c-.4-.4-.92-.59-1.43-.59-.52 0-1.04.2-1.43.59L10.3 9.45l-7.72 7.72c-.78.78-.78 2.05 0 2.83L4 21.41c.39.39.9.59 1.41.59.51 0 1.02-.2 1.41-.59l7.78-7.78 2.81-2.81c.8-.78.8-2.07 0-2.86zM5.41 20L4 18.59l7.72-7.72 1.47 1.35L5.41 20z\"/>\n",
              "  </svg>\n",
              "      </button>\n",
              "      \n",
              "  <style>\n",
              "    .colab-df-container {\n",
              "      display:flex;\n",
              "      flex-wrap:wrap;\n",
              "      gap: 12px;\n",
              "    }\n",
              "\n",
              "    .colab-df-convert {\n",
              "      background-color: #E8F0FE;\n",
              "      border: none;\n",
              "      border-radius: 50%;\n",
              "      cursor: pointer;\n",
              "      display: none;\n",
              "      fill: #1967D2;\n",
              "      height: 32px;\n",
              "      padding: 0 0 0 0;\n",
              "      width: 32px;\n",
              "    }\n",
              "\n",
              "    .colab-df-convert:hover {\n",
              "      background-color: #E2EBFA;\n",
              "      box-shadow: 0px 1px 2px rgba(60, 64, 67, 0.3), 0px 1px 3px 1px rgba(60, 64, 67, 0.15);\n",
              "      fill: #174EA6;\n",
              "    }\n",
              "\n",
              "    [theme=dark] .colab-df-convert {\n",
              "      background-color: #3B4455;\n",
              "      fill: #D2E3FC;\n",
              "    }\n",
              "\n",
              "    [theme=dark] .colab-df-convert:hover {\n",
              "      background-color: #434B5C;\n",
              "      box-shadow: 0px 1px 3px 1px rgba(0, 0, 0, 0.15);\n",
              "      filter: drop-shadow(0px 1px 2px rgba(0, 0, 0, 0.3));\n",
              "      fill: #FFFFFF;\n",
              "    }\n",
              "  </style>\n",
              "\n",
              "      <script>\n",
              "        const buttonEl =\n",
              "          document.querySelector('#df-9d96169b-ac6e-4391-a3e5-4f34bc9eb7dc button.colab-df-convert');\n",
              "        buttonEl.style.display =\n",
              "          google.colab.kernel.accessAllowed ? 'block' : 'none';\n",
              "\n",
              "        async function convertToInteractive(key) {\n",
              "          const element = document.querySelector('#df-9d96169b-ac6e-4391-a3e5-4f34bc9eb7dc');\n",
              "          const dataTable =\n",
              "            await google.colab.kernel.invokeFunction('convertToInteractive',\n",
              "                                                     [key], {});\n",
              "          if (!dataTable) return;\n",
              "\n",
              "          const docLinkHtml = 'Like what you see? Visit the ' +\n",
              "            '<a target=\"_blank\" href=https://colab.research.google.com/notebooks/data_table.ipynb>data table notebook</a>'\n",
              "            + ' to learn more about interactive tables.';\n",
              "          element.innerHTML = '';\n",
              "          dataTable['output_type'] = 'display_data';\n",
              "          await google.colab.output.renderOutput(dataTable, element);\n",
              "          const docLink = document.createElement('div');\n",
              "          docLink.innerHTML = docLinkHtml;\n",
              "          element.appendChild(docLink);\n",
              "        }\n",
              "      </script>\n",
              "    </div>\n",
              "  </div>\n",
              "  "
            ]
          },
          "metadata": {},
          "execution_count": 24
        }
      ]
    },
    {
      "cell_type": "code",
      "source": [
        "df0012_data.shape"
      ],
      "metadata": {
        "colab": {
          "base_uri": "https://localhost:8080/"
        },
        "id": "85ECz_No3xIX",
        "outputId": "11039d98-8767-4636-96c5-29a0567f3f8f"
      },
      "execution_count": null,
      "outputs": [
        {
          "output_type": "execute_result",
          "data": {
            "text/plain": [
              "(50, 2)"
            ]
          },
          "metadata": {},
          "execution_count": 25
        }
      ]
    },
    {
      "cell_type": "code",
      "source": [
        "x = df0012_data.iloc[:, 0].values\n",
        "y = df0012_data.iloc[:, -1].values"
      ],
      "metadata": {
        "id": "O28cwOvR31BT"
      },
      "execution_count": null,
      "outputs": []
    },
    {
      "cell_type": "code",
      "source": [
        "from sklearn.model_selection import train_test_split\n",
        "x_train, x_test, y_train, y_test = train_test_split(x, y, test_size = 0.2,random_state=0)"
      ],
      "metadata": {
        "id": "q9kM-Mm34ApV"
      },
      "execution_count": null,
      "outputs": []
    },
    {
      "cell_type": "code",
      "source": [
        "x_train"
      ],
      "metadata": {
        "colab": {
          "base_uri": "https://localhost:8080/"
        },
        "id": "HE8Gnd6n-VGM",
        "outputId": "c4c79df5-3c34-4ba8-86fe-909de895d5c6"
      },
      "execution_count": null,
      "outputs": [
        {
          "output_type": "execute_result",
          "data": {
            "text/plain": [
              "array(['Ini kenapa pembayaran makin susah? Cuma bs pakai Link Aja sama Qris. Pakek link aja tp aplikasi sering time out. Udah bener dulu bs bayar pakai Indomaret dan bank lainnya, di update bukannya tambah oke, malah tambah jelek',\n",
              "       'Masalah: sekarang aplikasinya suka nutup sendiri. railfood nya kosong kalau penumpang dipesenin orang atau beli di selain kai access. Saran: penumpang bisa memasukan kode karcis ke kai access sehingga bisa masuk ke kai access dan bs pesan makanan. Syukur2 bs otomatis kalau ada nomer ktp terdaftar sebagai penumpang kereta bs lngsung otomatis masuk ke aplikasinya. Buat penumpang disabilitas akan sangat membantu saat pesan2 makanan. Makasih',\n",
              "       \"Mohon respon dan bantuannya.. saya pengguna baru, pada saat saya mau daftar sudah input no telp dan alamat email lalu tekan Lanjutkan tp responnya lama banget, sekalinya bisa langsung muncul pesan 'Aduh! Permintaan Anda telah timeout'. Sudah dicoba berulang2, buka tutup aplikasi, bongkar pasang aplikasi, tapi masih aja tetap tidak bisa. Piye iki, mau praktis kok kayak gini, minta tolong segera ya, karena kereta saya sebentar lg berangkat, daripada saya kehilangan tiket KAI dan kuota buat donlot.\",\n",
              "       'Aplikasi sering time out di update malah jelek aplikasinya. Sampai2 saya pesan lewat Website baru bisa. Aplikasi kalo belum diperbaikin ya percuma. Bakal berkurang ratingnya. Saya ubah ratingnya kalo KAI udah benerin aplikasinya. Terimakasih.',\n",
              "       'Setiap klik , pasti keluar pemberitahuan applikasi ini tidak menanggapi. Terus jika sudah klik lanjutkan pembayaran langsung error, dengan pemberitahuan \"timed out\" . Bukan sekali dua kali , tapi setiap pakai app ini. Mau gak mau beli tiket go-show',\n",
              "       'Ini kenapa lelet sekali pas mau pesan tiket? Padahal hp saya android dan biasa aja klo pesan di aplikasi lain.. kenapa disini kg malah lemot tiap kali buka halaman order, pilih kursi, pilih penumpang, sampai pilih metode pembayaran. Saking lemotnya sampe aplikasi sering crash. Hp saya android lolipop. Tapi susah banget',\n",
              "       'Aplikasi gk guna , ngerugiin. Beli tiket dan transaksi nya berhasil tapi tiketnya gk ada. Dan uang gk di kembali kan. Udah gitu suruh ngurus sendiri ke pihak banknya biar bisa kembali uangnya. Gak lagi2 pake ini aplikasi.',\n",
              "       'Transaksi yang sangat ribet dan hanya ada 2 cara transaksi yg disediakan, dan sering masalah pada saat melakukan transaksi pada QRIS seperti \"proses waktu transaksi kadaluarsa\", pdhl saya sudah mengulangi nya lagi supaya lebih cepat dalam bertransaksi (tidak sampai 5 menit saya melakukan proses transaksi) namun tetap saja tidak bisa alasannya karena \"proses waktu transaksi kadaluarsa\" lagi. Mohon perbaikan nya 🙏',\n",
              "       'Sangat membantu dan simpel sekali untuk perjalanan KA Lokal harganya pun murah sesuai jika beli tiket offline. Pembayaran jga gampang banget tinggal klik beres ga perlu cetak tiket jga tinggal scan di gerbang saat mau k keretanya.',\n",
              "       'Aplikasi sangat buruk, berkali kali crash, perpindahan laman 1 ke laman lain sangat lambat, sehingga mengakibatkan request time out, tolong segera diperbaiki',\n",
              "       'Pesen tiket lewat aplikasi pas pilih kursi malah keluar sendiri terus aplikasinya. 3-4x seperti itu yang mengakibatkan isi data terus , dan tidak sampai ke pembayaran.',\n",
              "       'Mohon di tingkatkan untuk kinerja aplikasi, seperti ulasan yaing lainnya, bahwa aplikasi KAI di user IOS sudah bagus dan lancar. Namun pada user ANDROID aplikasi KAI sangat berat dan lamban bahkan sering close sendiri saat pemilihan kursi hingga pembayaran tidak bisa dilakukan karena waktu sudah habis terkena efek bug. Untuk admin aplikasi ini jangan hanya berkomentar memberi petunjuk pada ulasan\" yang masuk, anda kan tahu jalur ya mohon di UPkan ke pihak KAI yang menengani pembenahan aplikasi.',\n",
              "       'Pengalaman yg sangat buruk ....aplikasinya lemot dan sering macet2...parahnya lagi pas sampai di fitur pilih kursi sama sekali gk bisa di klik gerbong sama kursinya...dan tiba2 aplikasinya ketutup sendiri😑😑...itu berulang kali seperti itu',\n",
              "       'Aplikasinya jelek,error. Mati / keluar sendiri padahal baru ngisi daftar penumpang, coba di ulang login / logout,update versi terbaru,reset hp,sama aja.begitu terus berulang ulang,bikin kesel aja',\n",
              "       'Ada BUG di menu tiket yang sudah lunas dan keranjang. Tiket tidak terlihat tapi kalo di tarik layar ke bawah (refresh) muncul tapi setelah jari dilepas ilang lagi tiketnya. Di menu tiket dan keranjang BUG nya sama seperti itu. Namun jika membeli dua tiket atau lebih tampilan nya normal. Saya sudah update aplikasi nya tapi masih sama. Mohon perbaiki secepatnya.',\n",
              "       'Tolong dong padahal udah upgrade dan kebetulan nomer HP sudah tidak aktif tapi tidak bisa di ubah, jd saya daftar baru lagi dan saat sudah daftar dan masuk ke KAI pay ada kendala, tidak terkirim kode OTP nya sudah saya ulang berkali-kali kenapa sih padahal nomer juga sudah aktif',\n",
              "       'Aplikasi parah. Percuma ada fitur daftar penumpang kalau tiap pesen tiket daftar penumpangnya gak bisa diganti. Permanen nama pemilik aplikasi yg tercantum. Perbaiki lagi lah. Keretanya sudah bagus, layanan stasiun udah baik, masa iya aplikasinya melempem begini.',\n",
              "       'Sering ngelag tiba2 pas mau pesen, servernya juga sering down. Kak, tolong kenapa setiap saya mau tambahkan penumpang, servernya langsung down? Aplikasi tidak merespon dan tiba2 keluar dari apk. Padahal sinyal dan hape saya tidak bermasalah. Mohon solusi. Sudah 3 bulan seperti ini',\n",
              "       'Mohon maaf atas ketidak nyamanan ya min saya kasih bintang 3 karena perfoma aplikasi sangat tidak user friendly, ngelag ngebug parah beda sama aplikasi sebelumnya next time kalau update aplikasi tolong keluhan dan saran sampaikan kepihak terkait yang menangani bagian teknologi informasi nya supaya tidak diakali sama mereka,ya mungkin bagian cs bilang gak ada kendala apa apa tapi pengguna yang ngerasain kok masih aja jawabannya gitu,seharusnya di-update semakin membaik bukan memburuk.',\n",
              "       'Mohon diperbaiki aplikasinya. Lemot sekali. Saat menu pemilihan kursi dan menu pembayaran sering sekali tiba-tiba keluar dari aplikasinya.',\n",
              "       'Aplikasi force close pada Google Pixel 3 XL, waktu pemesanan sangat singkat sehingga timeout terus. Padahal aplikasinya yang ngehang. Tolong perbaiki.',\n",
              "       'Hai min maaf saran supaya bisa jauh lebih baik lagi, tolong diperbaiki ya min apk 3 hari ini kok gak bisa buat pesen tiket, apk sering ngelag padahal sudah saya updet, sampai saya instal bolak balik. Terima kasih',\n",
              "       'Tolong di perbaiki sistem di aplikasinya, agar bisa digunakan dengan baik, sebetulnya klo sudah berhasil enak, tidak perlu cetak tiket lg, praktis dan simple, namun setiap pesan berulang2 time out.. sampai 10x baru berhasil.. pemesanan sebelumnya juga sama ulang berkali2 baru bisa (bikin kesel).. sudah menggunakan paket data dan wifi tetap sama time out terus berulang kali. Mau update no ktp tidak bisa, mau upgrade premium tidak bisa.. semoga bisa lebih baik lagi.. dan makin maju KAI.',\n",
              "       'Saya ngisi data NIK sdh bener, eeehhh yg tercatat dan tersimpan gak sesuai yg sy ketik. Angka terakhir NIK sy ketik 04 tersimpan 072. Sdh pasti salah dan kebanyakan digit. Sayang sekali gak bisa diubah. Percuma !!!',\n",
              "       'Sistemnya lambat, belum lagi bayarnya ga praktis sama sekali. Lewat link aja pendaftaran gagal terus, lewat QRIS konfirmasi pembayaran lama banget. Bisa kali di connect ke shopee pay atau gopay, daripada ribet. Mana waktu batas pembayaran singkat, tapi ga didukung sistemnya. Ya gagal terus deh beli tiketnya',\n",
              "       'Keseluruhan, KAI access membaik, secara pribadi penggunaan aplikasi ini tak pernah terkendala. Satu hal yg bikin kesel, 26/3/2022, untuk kali kedua, saya beli paket data memakai pembayaran KAIpay, dan gagal, dan saldo tetap terpotong! Ada notes saldo telah dikembalikan, tapi saldo di KAIpay tetap diangka 47.120. Itu minus 24.940 (harga paket data yg saya beli) dari saldo awal saya yg 72.060. Merasa dihianati banget, setelah pasal: beli tiket hanya punya waktu 1 jam agar bookingan nggak hangus.',\n",
              "       'Mohon untuk aplikasi dikembangkan lebih baik lagi. Appnya terasa sangat lambat, bukan lamban lagi ini sudah termasuk Lag, bahkan error. Device saya secara spek sangat mumpun, tapi aplikasi ini terasa sangat tidak responsif, sering terjadi force close, terutama saat pemuilihan kursi dan proses setelahnya, semuanya sangat lag. Waktu pemesanan 6 menit maksimal, tapi lag aplikasi sendiri yang membuat proses pembelian tiket sangat lambat, bahkan sangat sering gagal transaksi gara gra force close',\n",
              "       'Nge lag parah Sudah clear data, aplikasi sudah di perbaharui termasuk webview dan chrome , apa lagi nanti kalo tiket lebaran, seperti apa. Tolong di perbaiki aplikasi nya.',\n",
              "       'Saya pengguna lama kai access Dalam beberapa waktu kurang lebih 1 bulanan ini saya pesan lewat kai accesa kenapa selalu lemot dan ketika mau saya proses untuk pemesanan selalu ada notifikasi kai tidak dapat menanggapi kemudian aplikasi hrs d tutup karena tidk bisa terproses Mohon konfirmasinya Terima kasih',\n",
              "       'Masih tetep sama seperti yg kemaren sebelum di update,,tidak bisa login padahal password sudah sesuai dan apk sudah di instal ulang........tolonglah diperbaiki agar masyarakat bisa menikmati manfaat kereta api apalagi sebentar lagi mau mudik lebaran...',\n",
              "       'Zaman udh semakin maju,semua bisa di akses dr Gadget. Udh bagus sich aplikasi ini tp msh kurang sempurna Krn klo mau ubah jadwal/pembatalan gak bisa di akses utk KA LoKal msh harus DTG ke service center ke stasiun padahal tinggal nanti uang nya dikembalikan via alat pembayaran yg digunkan saat pembayaran tiket. Dan seharusnya sudah mencakup semua lah!!',\n",
              "       'Seharusnya suda bisa dibatalkan atau dirubah jadwal oleh pemesan via online walaupun nama penumpang tidak sesuai akun... seperti pembatalan pesawat.. Asal penerima rekening sesuai nama penumpang... Karena lansia sering tidak punya android.. Somaga kedepannya bisa terlaksana...',\n",
              "       'Aabis update, kenapa kok booking di aplikasi jadi susah banget ngeload nya lama, crash pula jadi akhirnya booking lewat website biar lancar. Trus pindah kursi juga susah banget, akhirnya beli di tempat lain. Tolong perbaikannya ya kai🙏🏻',\n",
              "       'saya melakukan pembayaran tiket via virtual acount bca sudah ke potong saldonya tp di notipikasi tiket di aplikasi kai nya masih belum di bayar sampai jadi kadaluarsa,sehingga harus booking lagi dan bayar lagi via indomaret karena trauma pake virtual acount,sudah komplent k cs kai di buatkan laporan, disuruh email bukti pembayaran yg sudah k debit,sudah di email tp tidak ada balesan(apa di proses??),bagai mna dg uang saya masa tidak balik lagi???',\n",
              "       'Tolong diperbaiki sistemNya. Masa aplikasi sekelas perusahaan BUMN sistemnya buruk. Server selalu error(conection timeout) tampilan ui nya sederhana namun berat banget rasanya sering macet animasinya. Banyak tampilan yg gak muncul. Mohon dengan sangat diperhatikan. Masih lebih baik aplikasi lain penyedia layanan pemesanan tiket kereta api. Pesan di aplikasi official(resmi) malah bikin kecewa..',\n",
              "       'Aplikasi sbetulnya sudah bagus tp kenapa y log ini tidak bisa padahal email n password sama sperti waktu daftar akun.Dicoba untuk daftar lagi pake email n password yg sama responnya email sudah terdaftar.Harusnya jika semua dituntut harus online pembayaran nontunai,aplikasi dan sistem harus siap donk jangan menyusahkan para pelanggan... Terus solusinya gmn nih min???',\n",
              "       'Jelek bgt bgt aplikasinya. Gampang ngelag!! Yang error aplikasinya, tpi malah kita yang kesulitan, gak bisa pesen, karna udah booking lebih dari 15x katanya. Padahal belum klik pembayaran aja udah otomatis out sendiri dari aplikasi. Gk layak banget!!!!',\n",
              "       'Aplikasi sering sekali erro ketika mau pesan.. Setalah dapat jadwal kreta mau di pesen, ketika di klik \"tambahkan sebagai penumpang\" aplikasi langsung erro/nutup sendiri.. Tolong dibntu perbaikanny..',\n",
              "       'Aplikasi bagus sih.. tapi sayangnya kenapa metode pembayaran hanya satu saja.. dan ketika sy ingin aktivasi KAI pay kenapa tidak bisa.. sy sudah lihat tutor tapi itu sangat berbeda.. tolong dong masalah seperti ini ngatasinya gimana.. sy sudah masuk akunnya berulang kali.. dan sudah diperbarui juga apk nya.. tapi tetep tidak bisa..',\n",
              "       'Kai kok gini terus sih, udah ke 3x nya beli tiket yg bermasalah terus kek ginii, setiap beli tiket pasti ga pernah bisa e-tiket nya ditampilin, jadi buang buang duit ajaa, ujung ujung nya ga kepake juga tuh tiket nya, udah komplain ke stasiun malah lemot banget pelayanan nya dan akhirnya malah disuruh buat beli tiket baru, jadi males pake kai access'],\n",
              "      dtype=object)"
            ]
          },
          "metadata": {},
          "execution_count": 28
        }
      ]
    },
    {
      "cell_type": "code",
      "source": [
        "len(x_train)"
      ],
      "metadata": {
        "colab": {
          "base_uri": "https://localhost:8080/"
        },
        "id": "nCvM-Jeg-c5Y",
        "outputId": "582764b4-7ade-40df-87b2-693804491b75"
      },
      "execution_count": null,
      "outputs": [
        {
          "output_type": "execute_result",
          "data": {
            "text/plain": [
              "40"
            ]
          },
          "metadata": {},
          "execution_count": 29
        }
      ]
    },
    {
      "cell_type": "code",
      "source": [
        "len(x)"
      ],
      "metadata": {
        "colab": {
          "base_uri": "https://localhost:8080/"
        },
        "id": "3kgCp6tE-l47",
        "outputId": "321a4d6a-0142-46b1-a5c9-959901e9bf67"
      },
      "execution_count": null,
      "outputs": [
        {
          "output_type": "execute_result",
          "data": {
            "text/plain": [
              "50"
            ]
          },
          "metadata": {},
          "execution_count": 30
        }
      ]
    },
    {
      "cell_type": "code",
      "source": [
        "x_test"
      ],
      "metadata": {
        "colab": {
          "base_uri": "https://localhost:8080/"
        },
        "id": "Cp-9EmYS-obP",
        "outputId": "52b9fcb2-e7b9-4494-af19-2ec089dd5660"
      },
      "execution_count": null,
      "outputs": [
        {
          "output_type": "execute_result",
          "data": {
            "text/plain": [
              "array(['Aplikasinya nge lag, dari versi yg sebelum ini sampai yg ini juga masih nge lag. Tidak ada perbaikan sama sekali. Padahal banyak yg sudah ngasih ulasan mengenai kendala ini, tetapi tidak diperbaiki sampai sekarang',\n",
              "       'Tolong diperbaiki aplikasi nyaa. Aplikasi selalu force closed \"apk tidak menanggapi\" ketika memasukkan identitas dan lanjut ke pembayaran itu nge lag/freez apknya min. Sinyal bagus dan hp saya juga bukan hp kentang tolong kedepannya ada update perbaikan lagi, terimakasih.',\n",
              "       'Ini aplikasi Journey UI nya harus d perbaiki. Masa mau bayar terus klik Back lalu kembali ke pembayaran yg ditunda gak ada tombol munculin balik QRIS nya. Coba bikin aplikasi dipelajari UI UX nya jangan cuma berfungsi doang.',\n",
              "       'Aplikasinya sudah bagus, UI-nya mudah dimengerti UXn-ya juga enak dan tidak ribet... TAPI kalau misalnya pengen beliin tiket untuk orang lain ribet sekali, mesti ganti Identitas. sedangkan ada fitur \"tambah penumpang\" tapi tidak bisa digunakan saat memesan tiket, dan otomatis terisi data pengguna akun (bukan data calon penumpang) yang tidak dapat diubah. Semoga diperbaiki kedepannya.',\n",
              "       'Tolong perbaiki lagi sistemnya, masa setiap mau ganti tempat duduk selalu timeout tibatiba force close pdhal sisa waktu masih 6menit, apk udh terupdate, cache semua sudah dihapus, udh pake data/wifi tetep aja ngelag. Masa sekelas perusahaan BUMN aplikasinya begini.',\n",
              "       'sedikit lagi bisa sempurna kalau nambahin fitur pembayaran pake kartu debit berlogo mastercard/visa (tanpa melihat bank apa, seperti sekarang hanya bisa bank mandiri saja. coba kembangkan semua bank). contoh kaya g*j*k/d*n* kan udah bisa nyambungin pembayarannya pake kartu debit, nah semoga KAI mencontoh hal tersebut ya agar pembayaran semakin mudah.',\n",
              "       'Mohon sistem diperbaiki karena saya tdk bisa menambahkan tiket di menu tambahkan tiket, dan saya tdk bisa membelikan tiket untuk org tua saya yg masih gaptek di sini karena penumpang 1 hanya pemilik akun yang muncul dan data penumpang 1 tdk bisa di edit.. aplikasi ini membantu sekali sebenarnya saya berharap ada pembaruan lg terimakasih atas perhatiannya🙏',\n",
              "       'Kirain saya doank yg merasakan semakin Update Versi kok lag bngt...alias berat banget....tak kira HP saya kurang ok...ternyata emang dri Aplikasinya..bikin berat klo lg di akses.. Admin..tolong segera di perbaiki...lg..',\n",
              "       'Tolong perbaiki sistem pembayaran via indomaret, saya udah dua kali pakek via indomaret selalu gagal dulu baru bisa. Saya kira yang pertama emang karena sinyal saya atau bagaiman, tapi ini udah dua kali gak mungkin kalau cuma karena sinyal...',\n",
              "       'Terlalu sering melakukan update apps tapi layanannya masih belum semaksimal. Padahal user tiap update kehilangan banyak data di ponsel 😢. Ayo di perbaiki ya sistemnya supaya user tidak merasa kecewa. Apalagi mengenai tiket jarak jauh yang harus di cetak, nah buat apa ada aplikasi kalau harus cetak tiket lagi? 😭'],\n",
              "      dtype=object)"
            ]
          },
          "metadata": {},
          "execution_count": 31
        }
      ]
    },
    {
      "cell_type": "code",
      "source": [
        "len(x_test)"
      ],
      "metadata": {
        "colab": {
          "base_uri": "https://localhost:8080/"
        },
        "id": "T3YFTiqj-8it",
        "outputId": "e4837c95-dd09-4c11-ddb4-7fd965dbb49c"
      },
      "execution_count": null,
      "outputs": [
        {
          "output_type": "execute_result",
          "data": {
            "text/plain": [
              "10"
            ]
          },
          "metadata": {},
          "execution_count": 32
        }
      ]
    },
    {
      "cell_type": "code",
      "source": [
        "nltk.download('punkt')\n",
        "nltk.download('stopword')\n",
        "nltk.download('wordnet')"
      ],
      "metadata": {
        "colab": {
          "base_uri": "https://localhost:8080/"
        },
        "id": "6e99njhx_Eoi",
        "outputId": "d4a516e9-61f3-41a2-e283-ab2594220694"
      },
      "execution_count": null,
      "outputs": [
        {
          "output_type": "stream",
          "name": "stdout",
          "text": [
            "[nltk_data] Downloading package punkt to /root/nltk_data...\n",
            "[nltk_data]   Package punkt is already up-to-date!\n",
            "[nltk_data] Error loading stopword: Package 'stopword' not found in\n",
            "[nltk_data]     index\n",
            "[nltk_data] Downloading package wordnet to /root/nltk_data...\n",
            "[nltk_data]   Unzipping corpora/wordnet.zip.\n"
          ]
        },
        {
          "output_type": "execute_result",
          "data": {
            "text/plain": [
              "True"
            ]
          },
          "metadata": {},
          "execution_count": 34
        }
      ]
    },
    {
      "cell_type": "code",
      "source": [
        "df0012_data.content"
      ],
      "metadata": {
        "colab": {
          "base_uri": "https://localhost:8080/"
        },
        "id": "ulfuySph_U_g",
        "outputId": "615778da-bb8d-4f36-88da-b561d3f9ec48"
      },
      "execution_count": null,
      "outputs": [
        {
          "output_type": "execute_result",
          "data": {
            "text/plain": [
              "0     Aplikasi sering sekali erro ketika mau pesan.....\n",
              "1     Sistemnya lambat, belum lagi bayarnya ga prakt...\n",
              "2     Tolong perbaiki lagi sistemnya, masa setiap ma...\n",
              "3     Jelek bgt bgt aplikasinya. Gampang ngelag!! Ya...\n",
              "4     Terlalu sering melakukan update apps tapi laya...\n",
              "5     Aplikasi force close pada Google Pixel 3 XL, w...\n",
              "6     Saya pengguna lama kai access Dalam beberapa w...\n",
              "7     Ini kenapa lelet sekali pas mau pesan tiket? P...\n",
              "8     Sering ngelag tiba2 pas mau pesen, servernya j...\n",
              "9     saya melakukan pembayaran tiket via virtual ac...\n",
              "10    Ini aplikasi Journey UI nya harus d perbaiki. ...\n",
              "11    Tolong diperbaiki aplikasi nyaa. Aplikasi sela...\n",
              "12    Keseluruhan, KAI access membaik, secara pribad...\n",
              "13    Mohon maaf atas ketidak nyamanan ya min saya k...\n",
              "14    Aplikasi gk guna , ngerugiin. Beli tiket dan t...\n",
              "15    Pesen tiket lewat aplikasi pas pilih kursi mal...\n",
              "16    Aplikasinya jelek,error. Mati / keluar sendiri...\n",
              "17    Hai min maaf saran supaya bisa jauh lebih baik...\n",
              "18    Setiap klik , pasti keluar pemberitahuan appli...\n",
              "19    Aabis update, kenapa kok booking di aplikasi j...\n",
              "20    Tolong dong padahal udah upgrade dan kebetulan...\n",
              "21    Seharusnya suda bisa dibatalkan atau dirubah j...\n",
              "22    Tolong perbaiki sistem pembayaran via indomare...\n",
              "23    Masih tetep sama seperti yg kemaren sebelum di...\n",
              "24    Nge lag parah Sudah clear data, aplikasi sudah...\n",
              "25    Mohon diperbaiki aplikasinya. Lemot sekali. Sa...\n",
              "26    Mohon respon dan bantuannya.. saya pengguna ba...\n",
              "27    sedikit lagi bisa sempurna kalau nambahin fitu...\n",
              "28    Aplikasinya nge lag, dari versi yg sebelum ini...\n",
              "29    Aplikasi sangat buruk, berkali kali crash, per...\n",
              "30    Mohon di tingkatkan untuk kinerja aplikasi, se...\n",
              "31    Kirain saya doank yg merasakan semakin Update ...\n",
              "32    Pengalaman yg sangat buruk ....aplikasinya lem...\n",
              "33    Ini kenapa pembayaran makin susah? Cuma bs pak...\n",
              "34    Aplikasi sering time out di update malah jelek...\n",
              "35    Masalah: sekarang aplikasinya suka nutup sendi...\n",
              "36    Zaman udh semakin maju,semua bisa di akses dr ...\n",
              "37    Mohon untuk aplikasi dikembangkan lebih baik l...\n",
              "38    Mohon sistem diperbaiki karena saya tdk bisa m...\n",
              "39    Tolong diperbaiki sistemNya. Masa aplikasi sek...\n",
              "40    Tolong di perbaiki sistem di aplikasinya, agar...\n",
              "41    Aplikasinya sudah bagus, UI-nya mudah dimenger...\n",
              "42    Ada BUG di menu tiket yang sudah lunas dan ker...\n",
              "43    Aplikasi parah. Percuma ada fitur daftar penum...\n",
              "44    Kai kok gini terus sih, udah ke 3x nya beli ti...\n",
              "45    Transaksi yang sangat ribet dan hanya ada 2 ca...\n",
              "46    Aplikasi sbetulnya sudah bagus tp kenapa y log...\n",
              "47    Aplikasi bagus sih.. tapi sayangnya kenapa met...\n",
              "48    Sangat membantu dan simpel sekali untuk perjal...\n",
              "49    Saya ngisi data NIK sdh bener, eeehhh yg terca...\n",
              "Name: content, dtype: object"
            ]
          },
          "metadata": {},
          "execution_count": 35
        }
      ]
    },
    {
      "cell_type": "code",
      "source": [
        "df0012_data['content'] = df0012_data['content'].str.replace('https\\S',' ', case=False)\n",
        "\n",
        "df0012_data['content'] = df0012_data['content'].str.lower()\n",
        "\n",
        "df0012_data['content'] = df0012_data['content'].str.replace('@\\S+',' ', case=False)\n",
        "\n",
        "df0012_data['content'] = df0012_data['content'].str.replace('@\\S+',' ', case=False)\n",
        "\n",
        "df0012_data['content'] = df0012_data['content'].str.replace(\"\\'\\w+\",' ', case=False)\n",
        "\n",
        "df0012_data['content'] = df0012_data['content'].str.replace('[^\\w\\s]',' ', case=False)\n",
        "\n",
        "df0012_data['content'] = df0012_data['content'].str.replace(r'\\w*\\d+\\w*',' ', case=False)\n",
        "\n",
        "df0012_data['content'] = df0012_data['content'].str.replace('\\s(2)',' ', case=False)"
      ],
      "metadata": {
        "colab": {
          "base_uri": "https://localhost:8080/"
        },
        "id": "BQGHu500_YyS",
        "outputId": "def065d6-be8b-4e70-b906-fd653a378eea"
      },
      "execution_count": null,
      "outputs": [
        {
          "output_type": "stream",
          "name": "stderr",
          "text": [
            "/usr/local/lib/python3.7/dist-packages/ipykernel_launcher.py:1: FutureWarning: The default value of regex will change from True to False in a future version.\n",
            "  \"\"\"Entry point for launching an IPython kernel.\n",
            "/usr/local/lib/python3.7/dist-packages/ipykernel_launcher.py:5: FutureWarning: The default value of regex will change from True to False in a future version.\n",
            "  \"\"\"\n",
            "/usr/local/lib/python3.7/dist-packages/ipykernel_launcher.py:7: FutureWarning: The default value of regex will change from True to False in a future version.\n",
            "  import sys\n",
            "/usr/local/lib/python3.7/dist-packages/ipykernel_launcher.py:9: FutureWarning: The default value of regex will change from True to False in a future version.\n",
            "  if __name__ == '__main__':\n",
            "/usr/local/lib/python3.7/dist-packages/ipykernel_launcher.py:11: FutureWarning: The default value of regex will change from True to False in a future version.\n",
            "  # This is added back by InteractiveShellApp.init_path()\n",
            "/usr/local/lib/python3.7/dist-packages/ipykernel_launcher.py:13: FutureWarning: The default value of regex will change from True to False in a future version.\n",
            "  del sys.path[0]\n",
            "/usr/local/lib/python3.7/dist-packages/ipykernel_launcher.py:15: FutureWarning: The default value of regex will change from True to False in a future version.\n",
            "  from ipykernel import kernelapp as app\n"
          ]
        }
      ]
    },
    {
      "cell_type": "code",
      "source": [
        "df0012_data.content"
      ],
      "metadata": {
        "colab": {
          "base_uri": "https://localhost:8080/"
        },
        "id": "r5nKpWO5JwI4",
        "outputId": "8b590ee5-7c04-4083-bc50-0c45254dd1e0"
      },
      "execution_count": null,
      "outputs": [
        {
          "output_type": "execute_result",
          "data": {
            "text/plain": [
              "0     aplikasi sering sekali erro ketika mau pesan  ...\n",
              "1     sistemnya lambat  belum lagi bayarnya ga prakt...\n",
              "2     tolong perbaiki lagi sistemnya  masa setiap ma...\n",
              "3     jelek bgt bgt aplikasinya  gampang ngelag   ya...\n",
              "4     terlalu sering melakukan update apps tapi laya...\n",
              "5     aplikasi force close pada google pixel   xl  w...\n",
              "6     saya pengguna lama kai access dalam beberapa w...\n",
              "7     ini kenapa lelet sekali pas mau pesan tiket  p...\n",
              "8     sering ngelag   pas mau pesen  servernya juga ...\n",
              "9     saya melakukan pembayaran tiket via virtual ac...\n",
              "10    ini aplikasi journey ui nya harus d perbaiki  ...\n",
              "11    tolong diperbaiki aplikasi nyaa  aplikasi sela...\n",
              "12    keseluruhan  kai access membaik  secara pribad...\n",
              "13    mohon maaf atas ketidak nyamanan ya min saya k...\n",
              "14    aplikasi gk guna   ngerugiin  beli tiket dan t...\n",
              "15    pesen tiket lewat aplikasi pas pilih kursi mal...\n",
              "16    aplikasinya jelek error  mati   keluar sendiri...\n",
              "17    hai min maaf saran supaya bisa jauh lebih baik...\n",
              "18    setiap klik   pasti keluar pemberitahuan appli...\n",
              "19    aabis update  kenapa kok booking di aplikasi j...\n",
              "20    tolong dong padahal udah upgrade dan kebetulan...\n",
              "21    seharusnya suda bisa dibatalkan atau dirubah j...\n",
              "22    tolong perbaiki sistem pembayaran via indomare...\n",
              "23    masih tetep sama seperti yg kemaren sebelum di...\n",
              "24    nge lag parah sudah clear data  aplikasi sudah...\n",
              "25    mohon diperbaiki aplikasinya  lemot sekali  sa...\n",
              "26    mohon respon dan bantuannya   saya pengguna ba...\n",
              "27    sedikit lagi bisa sempurna kalau nambahin fitu...\n",
              "28    aplikasinya nge lag  dari versi yg sebelum ini...\n",
              "29    aplikasi sangat buruk  berkali kali crash  per...\n",
              "30    mohon di tingkatkan untuk kinerja aplikasi  se...\n",
              "31    kirain saya doank yg merasakan semakin update ...\n",
              "32    pengalaman yg sangat buruk     aplikasinya lem...\n",
              "33    ini kenapa pembayaran makin susah  cuma bs pak...\n",
              "34    aplikasi sering time out di update malah jelek...\n",
              "35    masalah  sekarang aplikasinya suka nutup sendi...\n",
              "36    zaman udh semakin maju semua bisa di akses dr ...\n",
              "37    mohon untuk aplikasi dikembangkan lebih baik l...\n",
              "38    mohon sistem diperbaiki karena saya tdk bisa m...\n",
              "39    tolong diperbaiki sistemnya  masa aplikasi sek...\n",
              "40    tolong di perbaiki sistem di aplikasinya  agar...\n",
              "41    aplikasinya sudah bagus  ui nya mudah dimenger...\n",
              "42    ada bug di menu tiket yang sudah lunas dan ker...\n",
              "43    aplikasi parah  percuma ada fitur daftar penum...\n",
              "44    kai kok gini terus sih  udah ke   nya beli tik...\n",
              "45    transaksi yang sangat ribet dan hanya ada   ca...\n",
              "46    aplikasi sbetulnya sudah bagus tp kenapa y log...\n",
              "47    aplikasi bagus sih   tapi sayangnya kenapa met...\n",
              "48    sangat membantu dan simpel sekali untuk perjal...\n",
              "49    saya ngisi data nik sdh bener  eeehhh yg terca...\n",
              "Name: content, dtype: object"
            ]
          },
          "metadata": {},
          "execution_count": 37
        }
      ]
    },
    {
      "cell_type": "code",
      "source": [
        "from nltk.tokenize import word_tokenize\n",
        "\n",
        "x = df0012_data.iloc[0]\n",
        "print(nltk.word_tokenize(x['content']))"
      ],
      "metadata": {
        "colab": {
          "base_uri": "https://localhost:8080/"
        },
        "id": "GFn3qPy8NoK4",
        "outputId": "06f41294-4035-4a72-9fca-39b205a1ea3b"
      },
      "execution_count": null,
      "outputs": [
        {
          "output_type": "stream",
          "name": "stdout",
          "text": [
            "['aplikasi', 'sering', 'sekali', 'erro', 'ketika', 'mau', 'pesan', 'setalah', 'dapat', 'jadwal', 'kreta', 'mau', 'di', 'pesen', 'ketika', 'di', 'klik', 'tambahkan', 'sebagai', 'penumpang', 'aplikasi', 'langsung', 'erro', 'nutup', 'sendiri', 'tolong', 'dibntu', 'perbaikanny']\n"
          ]
        }
      ]
    },
    {
      "cell_type": "code",
      "source": [
        "def identify_tokens(row):\n",
        "  text = row['content']\n",
        "  tokens  =nltk.word_tokenize(text)\n",
        "  token_words = [w for w in tokens if w.isalpha()]\n",
        "  return token_words\n",
        "\n",
        "df0012_data['content'] =df0012_data.apply(identify_tokens,axis = 1)\n",
        "df0012_data.content"
      ],
      "metadata": {
        "colab": {
          "base_uri": "https://localhost:8080/"
        },
        "id": "tT9wKXrCOHB5",
        "outputId": "033a888d-c422-4ab9-f9a9-2c86d4122879"
      },
      "execution_count": null,
      "outputs": [
        {
          "output_type": "execute_result",
          "data": {
            "text/plain": [
              "0     [aplikasi, sering, sekali, erro, ketika, mau, ...\n",
              "1     [sistemnya, lambat, belum, lagi, bayarnya, ga,...\n",
              "2     [tolong, perbaiki, lagi, sistemnya, masa, seti...\n",
              "3     [jelek, bgt, bgt, aplikasinya, gampang, ngelag...\n",
              "4     [terlalu, sering, melakukan, update, apps, tap...\n",
              "5     [aplikasi, force, close, pada, google, pixel, ...\n",
              "6     [saya, pengguna, lama, kai, access, dalam, beb...\n",
              "7     [ini, kenapa, lelet, sekali, pas, mau, pesan, ...\n",
              "8     [sering, ngelag, pas, mau, pesen, servernya, j...\n",
              "9     [saya, melakukan, pembayaran, tiket, via, virt...\n",
              "10    [ini, aplikasi, journey, ui, nya, harus, d, pe...\n",
              "11    [tolong, diperbaiki, aplikasi, nyaa, aplikasi,...\n",
              "12    [keseluruhan, kai, access, membaik, secara, pr...\n",
              "13    [mohon, maaf, atas, ketidak, nyamanan, ya, min...\n",
              "14    [aplikasi, gk, guna, ngerugiin, beli, tiket, d...\n",
              "15    [pesen, tiket, lewat, aplikasi, pas, pilih, ku...\n",
              "16    [aplikasinya, jelek, error, mati, keluar, send...\n",
              "17    [hai, min, maaf, saran, supaya, bisa, jauh, le...\n",
              "18    [setiap, klik, pasti, keluar, pemberitahuan, a...\n",
              "19    [aabis, update, kenapa, kok, booking, di, apli...\n",
              "20    [tolong, dong, padahal, udah, upgrade, dan, ke...\n",
              "21    [seharusnya, suda, bisa, dibatalkan, atau, dir...\n",
              "22    [tolong, perbaiki, sistem, pembayaran, via, in...\n",
              "23    [masih, tetep, sama, seperti, yg, kemaren, seb...\n",
              "24    [nge, lag, parah, sudah, clear, data, aplikasi...\n",
              "25    [mohon, diperbaiki, aplikasinya, lemot, sekali...\n",
              "26    [mohon, respon, dan, bantuannya, saya, penggun...\n",
              "27    [sedikit, lagi, bisa, sempurna, kalau, nambahi...\n",
              "28    [aplikasinya, nge, lag, dari, versi, yg, sebel...\n",
              "29    [aplikasi, sangat, buruk, berkali, kali, crash...\n",
              "30    [mohon, di, tingkatkan, untuk, kinerja, aplika...\n",
              "31    [kirain, saya, doank, yg, merasakan, semakin, ...\n",
              "32    [pengalaman, yg, sangat, buruk, aplikasinya, l...\n",
              "33    [ini, kenapa, pembayaran, makin, susah, cuma, ...\n",
              "34    [aplikasi, sering, time, out, di, update, mala...\n",
              "35    [masalah, sekarang, aplikasinya, suka, nutup, ...\n",
              "36    [zaman, udh, semakin, maju, semua, bisa, di, a...\n",
              "37    [mohon, untuk, aplikasi, dikembangkan, lebih, ...\n",
              "38    [mohon, sistem, diperbaiki, karena, saya, tdk,...\n",
              "39    [tolong, diperbaiki, sistemnya, masa, aplikasi...\n",
              "40    [tolong, di, perbaiki, sistem, di, aplikasinya...\n",
              "41    [aplikasinya, sudah, bagus, ui, nya, mudah, di...\n",
              "42    [ada, bug, di, menu, tiket, yang, sudah, lunas...\n",
              "43    [aplikasi, parah, percuma, ada, fitur, daftar,...\n",
              "44    [kai, kok, gini, terus, sih, udah, ke, nya, be...\n",
              "45    [transaksi, yang, sangat, ribet, dan, hanya, a...\n",
              "46    [aplikasi, sbetulnya, sudah, bagus, tp, kenapa...\n",
              "47    [aplikasi, bagus, sih, tapi, sayangnya, kenapa...\n",
              "48    [sangat, membantu, dan, simpel, sekali, untuk,...\n",
              "49    [saya, ngisi, data, nik, sdh, bener, eeehhh, y...\n",
              "Name: content, dtype: object"
            ]
          },
          "metadata": {},
          "execution_count": 41
        }
      ]
    },
    {
      "cell_type": "code",
      "source": [
        "from nltk.stem import PorterStemmer\n",
        "from nltk.stem import WordNetLemmatizer\n",
        "stemming = PorterStemmer()"
      ],
      "metadata": {
        "id": "tHftV_I3PGw7"
      },
      "execution_count": null,
      "outputs": []
    },
    {
      "cell_type": "code",
      "source": [
        "def stem_list(row):\n",
        "  text = row ['content']\n",
        "  stem = [stemming.stem(word) for word in text]\n",
        "  return(stem)\n",
        "\n",
        "df0012_data['content'] = df0012_data.apply(stem_list, axis=1)\n",
        "df0012_data.content"
      ],
      "metadata": {
        "colab": {
          "base_uri": "https://localhost:8080/"
        },
        "id": "HNKfwGTXPjna",
        "outputId": "6b04d0b5-604c-4478-9761-57f864f6f7f2"
      },
      "execution_count": null,
      "outputs": [
        {
          "output_type": "execute_result",
          "data": {
            "text/plain": [
              "0     [aplikasi, sere, sekali, erro, ketika, mau, pe...\n",
              "1     [sistemnya, lambat, belum, lagi, bayarnya, ga,...\n",
              "2     [tolong, perbaiki, lagi, sistemnya, masa, seti...\n",
              "3     [jelek, bgt, bgt, aplikasinya, gampang, ngelag...\n",
              "4     [terlalu, sere, melakukan, updat, app, tapi, l...\n",
              "5     [aplikasi, forc, close, pada, googl, pixel, xl...\n",
              "6     [saya, pengguna, lama, kai, access, dalam, beb...\n",
              "7     [ini, kenapa, lelet, sekali, pa, mau, pesan, t...\n",
              "8     [sere, ngelag, pa, mau, pesen, servernya, juga...\n",
              "9     [saya, melakukan, pembayaran, tiket, via, virt...\n",
              "10    [ini, aplikasi, journey, ui, nya, haru, d, per...\n",
              "11    [tolong, diperbaiki, aplikasi, nyaa, aplikasi,...\n",
              "12    [keseluruhan, kai, access, membaik, secara, pr...\n",
              "13    [mohon, maaf, ata, ketidak, nyamanan, ya, min,...\n",
              "14    [aplikasi, gk, guna, ngerugiin, beli, tiket, d...\n",
              "15    [pesen, tiket, lewat, aplikasi, pa, pilih, kur...\n",
              "16    [aplikasinya, jelek, error, mati, keluar, send...\n",
              "17    [hai, min, maaf, saran, supaya, bisa, jauh, le...\n",
              "18    [setiap, klik, pasti, keluar, pemberitahuan, a...\n",
              "19    [aabi, updat, kenapa, kok, book, di, aplikasi,...\n",
              "20    [tolong, dong, padah, udah, upgrad, dan, kebet...\n",
              "21    [seharusnya, suda, bisa, dibatalkan, atau, dir...\n",
              "22    [tolong, perbaiki, sistem, pembayaran, via, in...\n",
              "23    [masih, tetep, sama, seperti, yg, kemaren, seb...\n",
              "24    [nge, lag, parah, sudah, clear, data, aplikasi...\n",
              "25    [mohon, diperbaiki, aplikasinya, lemot, sekali...\n",
              "26    [mohon, respon, dan, bantuannya, saya, penggun...\n",
              "27    [sedikit, lagi, bisa, sempurna, kalau, nambahi...\n",
              "28    [aplikasinya, nge, lag, dari, versi, yg, sebel...\n",
              "29    [aplikasi, sangat, buruk, berkali, kali, crash...\n",
              "30    [mohon, di, tingkatkan, untuk, kinerja, aplika...\n",
              "31    [kirain, saya, doank, yg, merasakan, semakin, ...\n",
              "32    [pengalaman, yg, sangat, buruk, aplikasinya, l...\n",
              "33    [ini, kenapa, pembayaran, makin, susah, cuma, ...\n",
              "34    [aplikasi, sere, time, out, di, updat, malah, ...\n",
              "35    [masalah, sekarang, aplikasinya, suka, nutup, ...\n",
              "36    [zaman, udh, semakin, maju, semua, bisa, di, a...\n",
              "37    [mohon, untuk, aplikasi, dikembangkan, lebih, ...\n",
              "38    [mohon, sistem, diperbaiki, karena, saya, tdk,...\n",
              "39    [tolong, diperbaiki, sistemnya, masa, aplikasi...\n",
              "40    [tolong, di, perbaiki, sistem, di, aplikasinya...\n",
              "41    [aplikasinya, sudah, bagu, ui, nya, mudah, dim...\n",
              "42    [ada, bug, di, menu, tiket, yang, sudah, luna,...\n",
              "43    [aplikasi, parah, percuma, ada, fitur, daftar,...\n",
              "44    [kai, kok, gini, teru, sih, udah, ke, nya, bel...\n",
              "45    [transaksi, yang, sangat, ribet, dan, hanya, a...\n",
              "46    [aplikasi, sbetulnya, sudah, bagu, tp, kenapa,...\n",
              "47    [aplikasi, bagu, sih, tapi, sayangnya, kenapa,...\n",
              "48    [sangat, membantu, dan, simpel, sekali, untuk,...\n",
              "49    [saya, ngisi, data, nik, sdh, bener, eeehhh, y...\n",
              "Name: content, dtype: object"
            ]
          },
          "metadata": {},
          "execution_count": 43
        }
      ]
    },
    {
      "cell_type": "code",
      "source": [
        "from nltk.corpus import stopwords\n",
        "import nltk\n",
        "nltk.download('stopwords')\n",
        "\n",
        "stops = set(stopwords.words('indonesian'))"
      ],
      "metadata": {
        "colab": {
          "base_uri": "https://localhost:8080/"
        },
        "id": "G4fBXi-AQXFs",
        "outputId": "150a4a18-d77e-4be0-d021-72eed8728056"
      },
      "execution_count": null,
      "outputs": [
        {
          "output_type": "stream",
          "name": "stdout",
          "text": [
            "[nltk_data] Downloading package stopwords to /root/nltk_data...\n",
            "[nltk_data]   Unzipping corpora/stopwords.zip.\n"
          ]
        }
      ]
    },
    {
      "cell_type": "code",
      "source": [
        "df0012_data.head()"
      ],
      "metadata": {
        "colab": {
          "base_uri": "https://localhost:8080/",
          "height": 206
        },
        "id": "0ju4NNbVQzaW",
        "outputId": "bb18598a-c0af-42ee-c989-c8a734810f18"
      },
      "execution_count": null,
      "outputs": [
        {
          "output_type": "execute_result",
          "data": {
            "text/plain": [
              "                                             content sentiment\n",
              "0  [aplikasi, sere, sekali, erro, ketika, mau, pe...         0\n",
              "1  [sistemnya, lambat, belum, lagi, bayarnya, ga,...         0\n",
              "2  [tolong, perbaiki, lagi, sistemnya, masa, seti...         0\n",
              "3  [jelek, bgt, bgt, aplikasinya, gampang, ngelag...         0\n",
              "4  [terlalu, sere, melakukan, updat, app, tapi, l...         0"
            ],
            "text/html": [
              "\n",
              "  <div id=\"df-ddade3e7-cbc1-4818-a6b4-c3d3dda30113\">\n",
              "    <div class=\"colab-df-container\">\n",
              "      <div>\n",
              "<style scoped>\n",
              "    .dataframe tbody tr th:only-of-type {\n",
              "        vertical-align: middle;\n",
              "    }\n",
              "\n",
              "    .dataframe tbody tr th {\n",
              "        vertical-align: top;\n",
              "    }\n",
              "\n",
              "    .dataframe thead th {\n",
              "        text-align: right;\n",
              "    }\n",
              "</style>\n",
              "<table border=\"1\" class=\"dataframe\">\n",
              "  <thead>\n",
              "    <tr style=\"text-align: right;\">\n",
              "      <th></th>\n",
              "      <th>content</th>\n",
              "      <th>sentiment</th>\n",
              "    </tr>\n",
              "  </thead>\n",
              "  <tbody>\n",
              "    <tr>\n",
              "      <th>0</th>\n",
              "      <td>[aplikasi, sere, sekali, erro, ketika, mau, pe...</td>\n",
              "      <td>0</td>\n",
              "    </tr>\n",
              "    <tr>\n",
              "      <th>1</th>\n",
              "      <td>[sistemnya, lambat, belum, lagi, bayarnya, ga,...</td>\n",
              "      <td>0</td>\n",
              "    </tr>\n",
              "    <tr>\n",
              "      <th>2</th>\n",
              "      <td>[tolong, perbaiki, lagi, sistemnya, masa, seti...</td>\n",
              "      <td>0</td>\n",
              "    </tr>\n",
              "    <tr>\n",
              "      <th>3</th>\n",
              "      <td>[jelek, bgt, bgt, aplikasinya, gampang, ngelag...</td>\n",
              "      <td>0</td>\n",
              "    </tr>\n",
              "    <tr>\n",
              "      <th>4</th>\n",
              "      <td>[terlalu, sere, melakukan, updat, app, tapi, l...</td>\n",
              "      <td>0</td>\n",
              "    </tr>\n",
              "  </tbody>\n",
              "</table>\n",
              "</div>\n",
              "      <button class=\"colab-df-convert\" onclick=\"convertToInteractive('df-ddade3e7-cbc1-4818-a6b4-c3d3dda30113')\"\n",
              "              title=\"Convert this dataframe to an interactive table.\"\n",
              "              style=\"display:none;\">\n",
              "        \n",
              "  <svg xmlns=\"http://www.w3.org/2000/svg\" height=\"24px\"viewBox=\"0 0 24 24\"\n",
              "       width=\"24px\">\n",
              "    <path d=\"M0 0h24v24H0V0z\" fill=\"none\"/>\n",
              "    <path d=\"M18.56 5.44l.94 2.06.94-2.06 2.06-.94-2.06-.94-.94-2.06-.94 2.06-2.06.94zm-11 1L8.5 8.5l.94-2.06 2.06-.94-2.06-.94L8.5 2.5l-.94 2.06-2.06.94zm10 10l.94 2.06.94-2.06 2.06-.94-2.06-.94-.94-2.06-.94 2.06-2.06.94z\"/><path d=\"M17.41 7.96l-1.37-1.37c-.4-.4-.92-.59-1.43-.59-.52 0-1.04.2-1.43.59L10.3 9.45l-7.72 7.72c-.78.78-.78 2.05 0 2.83L4 21.41c.39.39.9.59 1.41.59.51 0 1.02-.2 1.41-.59l7.78-7.78 2.81-2.81c.8-.78.8-2.07 0-2.86zM5.41 20L4 18.59l7.72-7.72 1.47 1.35L5.41 20z\"/>\n",
              "  </svg>\n",
              "      </button>\n",
              "      \n",
              "  <style>\n",
              "    .colab-df-container {\n",
              "      display:flex;\n",
              "      flex-wrap:wrap;\n",
              "      gap: 12px;\n",
              "    }\n",
              "\n",
              "    .colab-df-convert {\n",
              "      background-color: #E8F0FE;\n",
              "      border: none;\n",
              "      border-radius: 50%;\n",
              "      cursor: pointer;\n",
              "      display: none;\n",
              "      fill: #1967D2;\n",
              "      height: 32px;\n",
              "      padding: 0 0 0 0;\n",
              "      width: 32px;\n",
              "    }\n",
              "\n",
              "    .colab-df-convert:hover {\n",
              "      background-color: #E2EBFA;\n",
              "      box-shadow: 0px 1px 2px rgba(60, 64, 67, 0.3), 0px 1px 3px 1px rgba(60, 64, 67, 0.15);\n",
              "      fill: #174EA6;\n",
              "    }\n",
              "\n",
              "    [theme=dark] .colab-df-convert {\n",
              "      background-color: #3B4455;\n",
              "      fill: #D2E3FC;\n",
              "    }\n",
              "\n",
              "    [theme=dark] .colab-df-convert:hover {\n",
              "      background-color: #434B5C;\n",
              "      box-shadow: 0px 1px 3px 1px rgba(0, 0, 0, 0.15);\n",
              "      filter: drop-shadow(0px 1px 2px rgba(0, 0, 0, 0.3));\n",
              "      fill: #FFFFFF;\n",
              "    }\n",
              "  </style>\n",
              "\n",
              "      <script>\n",
              "        const buttonEl =\n",
              "          document.querySelector('#df-ddade3e7-cbc1-4818-a6b4-c3d3dda30113 button.colab-df-convert');\n",
              "        buttonEl.style.display =\n",
              "          google.colab.kernel.accessAllowed ? 'block' : 'none';\n",
              "\n",
              "        async function convertToInteractive(key) {\n",
              "          const element = document.querySelector('#df-ddade3e7-cbc1-4818-a6b4-c3d3dda30113');\n",
              "          const dataTable =\n",
              "            await google.colab.kernel.invokeFunction('convertToInteractive',\n",
              "                                                     [key], {});\n",
              "          if (!dataTable) return;\n",
              "\n",
              "          const docLinkHtml = 'Like what you see? Visit the ' +\n",
              "            '<a target=\"_blank\" href=https://colab.research.google.com/notebooks/data_table.ipynb>data table notebook</a>'\n",
              "            + ' to learn more about interactive tables.';\n",
              "          element.innerHTML = '';\n",
              "          dataTable['output_type'] = 'display_data';\n",
              "          await google.colab.output.renderOutput(dataTable, element);\n",
              "          const docLink = document.createElement('div');\n",
              "          docLink.innerHTML = docLinkHtml;\n",
              "          element.appendChild(docLink);\n",
              "        }\n",
              "      </script>\n",
              "    </div>\n",
              "  </div>\n",
              "  "
            ]
          },
          "metadata": {},
          "execution_count": 45
        }
      ]
    },
    {
      "cell_type": "code",
      "source": [
        "df0012_data['sentiment'].value_counts()"
      ],
      "metadata": {
        "colab": {
          "base_uri": "https://localhost:8080/"
        },
        "id": "cm1tVsgtQ3Ey",
        "outputId": "f18c56d1-47bd-49b6-93ee-472c0244e946"
      },
      "execution_count": null,
      "outputs": [
        {
          "output_type": "execute_result",
          "data": {
            "text/plain": [
              "0    44\n",
              "1     6\n",
              "Name: sentiment, dtype: int64"
            ]
          },
          "metadata": {},
          "execution_count": 46
        }
      ]
    },
    {
      "cell_type": "code",
      "source": [
        ""
      ],
      "metadata": {
        "id": "WTO9MiOdRMBV"
      },
      "execution_count": null,
      "outputs": []
    },
    {
      "cell_type": "code",
      "source": [
        "from sklearn.feature_extraction.text import CountVectorizer\n",
        "import pandas as pd\n",
        "content = df0012['content']\n",
        "\n",
        "TfidfVectorizer = CountVectorizer(analyzer='word')\n",
        "tfidf_wm = TfidfVectorizer.fit_transform(content)\n",
        "tfidf_tokens = TfidfVectorizer.get_feature_names()\n",
        "df_tfidfvect = pd.DataFrame(data = tfidf_wm.toarray(),index = ['Doc1','Doc2','Doc3','Doc4','Doc5','Doc6','Doc7','Doc8','Doc9','Doc10','Doc11','Doc12','Doc13','Doc14','Doc15','Doc16','Doc17','Doc18','Doc19','Doc20','Doc21','Doc22','Doc23','Doc24','Doc25','Doc26','Doc27','Doc28','Doc29','Doc30','Doc31','Doc32','Doc33','Doc34','Doc35','Doc36','Doc37','Doc38','Doc39','Doc40','Doc41','Doc42','Doc43','Doc44','Doc45','Doc46','Doc47','Doc48','Doc49','Doc50'])\n",
        "print(\"\\nTD-IDF Vectorizer\\n\")\n",
        "print(df_tfidfvect)"
      ],
      "metadata": {
        "colab": {
          "base_uri": "https://localhost:8080/"
        },
        "id": "RVPKY0ClRMOE",
        "outputId": "a6564a12-0649-41f5-d4df-438cd54ee8dd"
      },
      "execution_count": null,
      "outputs": [
        {
          "output_type": "stream",
          "name": "stdout",
          "text": [
            "\n",
            "TD-IDF Vectorizer\n",
            "\n",
            "       0    1    2    3    4    5    6    7    8    9    ...  759  760  761  \\\n",
            "Doc1     0    0    0    0    0    0    0    0    0    0  ...    0    0    0   \n",
            "Doc2     0    0    0    0    0    0    0    0    0    0  ...    0    0    0   \n",
            "Doc3     0    0    0    0    0    0    0    0    0    0  ...    0    0    0   \n",
            "Doc4     0    0    0    0    0    1    0    0    0    0  ...    0    0    0   \n",
            "Doc5     0    0    0    0    0    0    0    0    0    0  ...    0    0    0   \n",
            "Doc6     0    0    0    0    0    0    0    0    0    0  ...    0    0    0   \n",
            "Doc7     0    0    0    0    0    0    0    0    0    0  ...    0    0    0   \n",
            "Doc8     0    0    0    0    0    0    0    0    0    0  ...    0    0    0   \n",
            "Doc9     0    0    0    0    0    0    0    0    0    0  ...    0    0    0   \n",
            "Doc10    0    0    0    0    0    0    0    0    0    0  ...    0    0    0   \n",
            "Doc11    0    0    0    0    0    0    0    0    0    0  ...    0    0    0   \n",
            "Doc12    0    0    0    0    0    0    0    0    0    0  ...    0    0    0   \n",
            "Doc13    0    1    0    0    1    0    1    1    1    0  ...    0    0    0   \n",
            "Doc14    0    0    0    0    0    0    0    0    0    0  ...    0    0    0   \n",
            "Doc15    0    0    0    0    0    0    0    0    0    0  ...    0    0    0   \n",
            "Doc16    0    0    0    0    0    0    0    0    0    0  ...    0    0    0   \n",
            "Doc17    0    0    0    0    0    0    0    0    0    0  ...    0    0    0   \n",
            "Doc18    0    0    0    0    0    0    0    0    0    0  ...    0    0    0   \n",
            "Doc19    0    0    0    0    0    0    0    0    0    0  ...    0    0    0   \n",
            "Doc20    0    0    0    0    0    0    0    0    0    0  ...    0    1    0   \n",
            "Doc21    0    0    0    0    0    0    0    0    0    0  ...    0    0    0   \n",
            "Doc22    0    0    0    0    0    0    0    0    0    0  ...    1    0    0   \n",
            "Doc23    0    0    0    0    0    0    0    0    0    0  ...    0    0    0   \n",
            "Doc24    0    0    0    0    0    0    0    0    0    0  ...    0    0    0   \n",
            "Doc25    0    0    0    0    0    0    0    0    0    0  ...    0    0    1   \n",
            "Doc26    0    0    0    0    0    0    0    0    0    0  ...    0    0    0   \n",
            "Doc27    0    0    0    0    0    0    0    0    0    0  ...    0    0    0   \n",
            "Doc28    0    0    0    0    0    0    0    0    0    0  ...    0    0    0   \n",
            "Doc29    0    0    0    0    0    0    0    0    0    0  ...    0    0    0   \n",
            "Doc30    0    0    0    0    0    0    0    0    0    0  ...    0    0    0   \n",
            "Doc31    0    0    0    0    0    0    0    0    0    0  ...    0    0    0   \n",
            "Doc32    0    0    0    0    0    0    0    0    0    0  ...    0    0    0   \n",
            "Doc33    0    0    0    0    0    0    0    0    0    0  ...    0    0    0   \n",
            "Doc34    0    0    0    0    0    0    0    0    0    0  ...    0    0    0   \n",
            "Doc35    0    0    0    0    0    0    0    0    0    0  ...    0    1    0   \n",
            "Doc36    0    0    0    0    0    0    0    0    0    0  ...    0    0    0   \n",
            "Doc37    0    0    0    0    0    0    0    0    0    0  ...    0    0    0   \n",
            "Doc38    0    0    0    0    0    0    0    0    0    0  ...    0    0    0   \n",
            "Doc39    0    0    0    0    0    0    0    0    0    0  ...    0    0    0   \n",
            "Doc40    0    0    0    0    0    0    0    0    0    0  ...    0    0    0   \n",
            "Doc41    0    0    0    1    0    0    0    0    0    0  ...    0    0    0   \n",
            "Doc42    0    0    0    0    0    0    0    0    0    0  ...    0    0    0   \n",
            "Doc43    0    0    0    0    0    0    0    0    0    0  ...    0    0    0   \n",
            "Doc44    0    0    0    0    0    0    0    0    0    0  ...    0    0    0   \n",
            "Doc45    0    0    0    0    0    0    0    0    0    1  ...    0    0    0   \n",
            "Doc46    0    0    0    0    0    0    0    0    0    0  ...    0    0    0   \n",
            "Doc47    0    0    0    0    0    0    0    0    0    0  ...    0    0    0   \n",
            "Doc48    0    0    0    0    0    0    0    0    0    0  ...    0    0    0   \n",
            "Doc49    0    0    0    0    0    0    0    0    0    0  ...    0    0    0   \n",
            "Doc50    1    0    1    0    0    0    0    0    0    0  ...    0    0    0   \n",
            "\n",
            "       762  763  764  765  766  767  768  \n",
            "Doc1     0    0    0    0    0    0    0  \n",
            "Doc2     0    0    1    0    0    0    0  \n",
            "Doc3     1    0    0    0    0    0    0  \n",
            "Doc4     0    0    0    0    2    0    0  \n",
            "Doc5     0    0    1    0    1    0    0  \n",
            "Doc6     0    1    0    0    1    0    0  \n",
            "Doc7     0    0    0    0    0    0    0  \n",
            "Doc8     0    0    0    0    0    0    0  \n",
            "Doc9     0    0    0    0    0    0    0  \n",
            "Doc10    0    0    0    0    0    1    0  \n",
            "Doc11    0    0    0    0    0    1    0  \n",
            "Doc12    0    0    0    0    0    0    0  \n",
            "Doc13    0    0    0    0    0    3    0  \n",
            "Doc14    0    0    2    0    2    0    0  \n",
            "Doc15    0    0    0    0    0    0    0  \n",
            "Doc16    0    0    0    0    1    0    0  \n",
            "Doc17    0    0    0    0    0    0    0  \n",
            "Doc18    0    0    1    0    0    0    0  \n",
            "Doc19    0    0    0    0    0    0    0  \n",
            "Doc20    0    0    1    0    0    0    0  \n",
            "Doc21    0    0    0    0    0    0    0  \n",
            "Doc22    0    0    0    0    0    0    0  \n",
            "Doc23    0    0    0    0    1    0    0  \n",
            "Doc24    0    0    0    0    0    1    0  \n",
            "Doc25    0    0    0    0    0    0    0  \n",
            "Doc26    0    0    0    0    0    0    0  \n",
            "Doc27    0    0    1    0    0    0    0  \n",
            "Doc28    0    0    1    0    0    0    0  \n",
            "Doc29    0    0    0    0    0    3    0  \n",
            "Doc30    0    0    0    0    0    0    0  \n",
            "Doc31    0    0    1    1    2    0    0  \n",
            "Doc32    0    0    0    0    0    1    0  \n",
            "Doc33    0    0    0    0    0    1    0  \n",
            "Doc34    0    0    0    0    0    0    0  \n",
            "Doc35    0    0    1    0    0    0    0  \n",
            "Doc36    0    0    0    0    0    0    0  \n",
            "Doc37    0    0    0    0    0    1    1  \n",
            "Doc38    0    0    0    0    1    0    0  \n",
            "Doc39    0    0    0    0    1    1    0  \n",
            "Doc40    0    0    0    0    0    1    0  \n",
            "Doc41    1    0    0    0    0    0    0  \n",
            "Doc42    0    0    1    0    1    0    0  \n",
            "Doc43    0    0    0    0    1    0    0  \n",
            "Doc44    0    0    0    0    0    1    0  \n",
            "Doc45    0    0    0    0    0    1    0  \n",
            "Doc46    0    0    0    0    1    1    0  \n",
            "Doc47    0    0    0    0    0    1    0  \n",
            "Doc48    0    0    0    0    0    0    0  \n",
            "Doc49    0    0    0    0    0    0    0  \n",
            "Doc50    0    0    0    0    0    2    0  \n",
            "\n",
            "[50 rows x 769 columns]\n"
          ]
        },
        {
          "output_type": "stream",
          "name": "stderr",
          "text": [
            "/usr/local/lib/python3.7/dist-packages/sklearn/utils/deprecation.py:87: FutureWarning: Function get_feature_names is deprecated; get_feature_names is deprecated in 1.0 and will be removed in 1.2. Please use get_feature_names_out instead.\n",
            "  warnings.warn(msg, category=FutureWarning)\n"
          ]
        }
      ]
    },
    {
      "cell_type": "code",
      "source": [
        "from sklearn.feature_extraction.text import CountVectorizer\n",
        "cv = CountVectorizer()\n",
        "x_train_cv = cv.fit_transform(x_train)\n",
        "x_test_cv = cv.transform(x_test)"
      ],
      "metadata": {
        "id": "RG5cp7sUYM-E"
      },
      "execution_count": null,
      "outputs": []
    },
    {
      "cell_type": "code",
      "source": [
        "x_test_cv[1:1]"
      ],
      "metadata": {
        "colab": {
          "base_uri": "https://localhost:8080/"
        },
        "id": "v-D-JUEPYvRd",
        "outputId": "5d712387-5e8f-4dd4-a591-ab79a794d407"
      },
      "execution_count": null,
      "outputs": [
        {
          "output_type": "execute_result",
          "data": {
            "text/plain": [
              "<0x681 sparse matrix of type '<class 'numpy.int64'>'\n",
              "\twith 0 stored elements in Compressed Sparse Row format>"
            ]
          },
          "metadata": {},
          "execution_count": 54
        }
      ]
    },
    {
      "cell_type": "code",
      "source": [
        "from sklearn.model_selection import train_test_split\n",
        "\n",
        "x = df0012_data['sentiment']\n",
        "y = df0012_data['sentiment']\n",
        "\n",
        "x_train, x_test, y_train, y_test = train_test_split(x, y, test_size = 0.2)"
      ],
      "metadata": {
        "id": "-r9TpNZVYzlD"
      },
      "execution_count": null,
      "outputs": []
    },
    {
      "cell_type": "code",
      "source": [
        "x_train"
      ],
      "metadata": {
        "colab": {
          "base_uri": "https://localhost:8080/"
        },
        "id": "HE_1g12FZaJB",
        "outputId": "439d9993-62fa-4f4e-c311-c45716e65c27"
      },
      "execution_count": null,
      "outputs": [
        {
          "output_type": "execute_result",
          "data": {
            "text/plain": [
              "20    0\n",
              "7     0\n",
              "11    0\n",
              "29    0\n",
              "5     0\n",
              "24    0\n",
              "33    0\n",
              "8     0\n",
              "26    1\n",
              "40    0\n",
              "37    0\n",
              "38    0\n",
              "48    1\n",
              "4     0\n",
              "34    0\n",
              "9     0\n",
              "22    0\n",
              "6     0\n",
              "44    0\n",
              "31    1\n",
              "3     0\n",
              "13    0\n",
              "1     0\n",
              "10    0\n",
              "25    0\n",
              "18    0\n",
              "32    0\n",
              "45    0\n",
              "42    0\n",
              "28    0\n",
              "15    0\n",
              "46    0\n",
              "16    0\n",
              "36    1\n",
              "39    0\n",
              "14    0\n",
              "47    0\n",
              "35    1\n",
              "21    0\n",
              "17    1\n",
              "Name: sentiment, dtype: object"
            ]
          },
          "metadata": {},
          "execution_count": 56
        }
      ]
    },
    {
      "cell_type": "code",
      "source": [
        "len(x_train)"
      ],
      "metadata": {
        "colab": {
          "base_uri": "https://localhost:8080/"
        },
        "id": "3uFK3M2WZby5",
        "outputId": "0a926a65-e95c-489e-c506-36641289f184"
      },
      "execution_count": null,
      "outputs": [
        {
          "output_type": "execute_result",
          "data": {
            "text/plain": [
              "40"
            ]
          },
          "metadata": {},
          "execution_count": 57
        }
      ]
    },
    {
      "cell_type": "code",
      "source": [
        "x_test"
      ],
      "metadata": {
        "colab": {
          "base_uri": "https://localhost:8080/"
        },
        "id": "24KNhZndZeUO",
        "outputId": "ba4b6632-52f8-4251-e74e-9642caccf864"
      },
      "execution_count": null,
      "outputs": [
        {
          "output_type": "execute_result",
          "data": {
            "text/plain": [
              "41    0\n",
              "49    0\n",
              "2     0\n",
              "27    0\n",
              "43    0\n",
              "19    0\n",
              "0     0\n",
              "23    0\n",
              "12    0\n",
              "30    0\n",
              "Name: sentiment, dtype: object"
            ]
          },
          "metadata": {},
          "execution_count": 58
        }
      ]
    },
    {
      "cell_type": "code",
      "source": [
        "len(x_test)"
      ],
      "metadata": {
        "colab": {
          "base_uri": "https://localhost:8080/"
        },
        "id": "YiWVe-mPZgHY",
        "outputId": "663cbb5c-3d6c-4309-8375-3f846fad23a3"
      },
      "execution_count": null,
      "outputs": [
        {
          "output_type": "execute_result",
          "data": {
            "text/plain": [
              "10"
            ]
          },
          "metadata": {},
          "execution_count": 59
        }
      ]
    },
    {
      "cell_type": "code",
      "source": [
        ""
      ],
      "metadata": {
        "id": "e-ysv4SJZr6f"
      },
      "execution_count": null,
      "outputs": []
    },
    {
      "cell_type": "code",
      "source": [
        "from sklearn.neighbors import KNeighborsClassifier\n",
        "classifier = KNeighborsClassifier(n_neighbors=3)\n",
        "classifier.fit(x_train_cv, y_train)"
      ],
      "metadata": {
        "colab": {
          "base_uri": "https://localhost:8080/"
        },
        "id": "qrIkFkIZZsES",
        "outputId": "f9d399c3-ee57-45f7-a6ed-3e9b9a66fa6f"
      },
      "execution_count": null,
      "outputs": [
        {
          "output_type": "execute_result",
          "data": {
            "text/plain": [
              "KNeighborsClassifier(n_neighbors=3)"
            ]
          },
          "metadata": {},
          "execution_count": 60
        }
      ]
    },
    {
      "cell_type": "code",
      "source": [
        "y_pred = classifier.predict(x_test_cv)"
      ],
      "metadata": {
        "id": "ZKW7v_rWZ_ra"
      },
      "execution_count": null,
      "outputs": []
    },
    {
      "cell_type": "code",
      "source": [
        "from sklearn.metrics import classification_report, confusion_matrix\n",
        "cm = confusion_matrix(y_test, y_pred)\n",
        "cr = classification_report(y_test, y_pred)\n",
        "print(cm)\n",
        "print(cr)"
      ],
      "metadata": {
        "colab": {
          "base_uri": "https://localhost:8080/"
        },
        "id": "xizvjZRHaHtD",
        "outputId": "ca238ca9-1b1d-433e-aece-44cfb5f92414"
      },
      "execution_count": null,
      "outputs": [
        {
          "output_type": "stream",
          "name": "stdout",
          "text": [
            "[[10]]\n",
            "              precision    recall  f1-score   support\n",
            "\n",
            "           0       1.00      1.00      1.00        10\n",
            "\n",
            "    accuracy                           1.00        10\n",
            "   macro avg       1.00      1.00      1.00        10\n",
            "weighted avg       1.00      1.00      1.00        10\n",
            "\n"
          ]
        }
      ]
    }
  ]
}